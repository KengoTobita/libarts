{
 "cells": [
  {
   "cell_type": "markdown",
   "metadata": {},
   "source": [
    "# Python Class編"
   ]
  },
  {
   "cell_type": "markdown",
   "metadata": {},
   "source": [
    "## simple class"
   ]
  },
  {
   "cell_type": "code",
   "execution_count": 79,
   "metadata": {},
   "outputs": [],
   "source": [
    "class Participantant:\n",
    "    \n",
    "    def __init__(self, name, nation):\n",
    "        self.name = name\n",
    "        self.nation = nation\n",
    "        print(\"Hello \",self.name)"
   ]
  },
  {
   "cell_type": "code",
   "execution_count": 52,
   "metadata": {},
   "outputs": [
    {
     "name": "stdout",
     "output_type": "stream",
     "text": [
      "Hello  Seito\n"
     ]
    }
   ],
   "source": [
    "Nanashino = Participantant(\"Seito\", \"Japan\")"
   ]
  },
  {
   "cell_type": "markdown",
   "metadata": {},
   "source": [
    "## 継承"
   ]
  },
  {
   "cell_type": "code",
   "execution_count": 56,
   "metadata": {},
   "outputs": [],
   "source": [
    "class Participantant:\n",
    "    \n",
    "    def __init__(self, name, nation):\n",
    "        self.name = name\n",
    "        self.nation = nation\n",
    "        print(\"Hello \", self.name)"
   ]
  },
  {
   "cell_type": "code",
   "execution_count": 76,
   "metadata": {},
   "outputs": [],
   "source": [
    "class Favorits(Participantant):\n",
    "    \n",
    "    def __init__(self, name, nation, movie, book):\n",
    "        super().__init__(name, nation)\n",
    "        self.movie = movie \n",
    "        self.book = book\n",
    "        \n",
    "    def flakyHello(self):\n",
    "        print(\"I like \", self.movie, \"too!\" )"
   ]
  },
  {
   "cell_type": "code",
   "execution_count": 77,
   "metadata": {},
   "outputs": [
    {
     "name": "stdout",
     "output_type": "stream",
     "text": [
      "Hello  seito\n",
      "Virus\n"
     ]
    }
   ],
   "source": [
    "nanashino = Favorits(\"seito\", \"JPN\", \"Virus\", \"Genocidal Organ\")"
   ]
  },
  {
   "cell_type": "code",
   "execution_count": 78,
   "metadata": {},
   "outputs": [
    {
     "name": "stdout",
     "output_type": "stream",
     "text": [
      "I like  Virus too!\n"
     ]
    }
   ],
   "source": [
    "nanashino.flakyHello()"
   ]
  },
  {
   "cell_type": "markdown",
   "metadata": {},
   "source": [
    "## Black Jack"
   ]
  },
  {
   "cell_type": "code",
   "execution_count": 5,
   "metadata": {},
   "outputs": [],
   "source": [
    "import random"
   ]
  },
  {
   "cell_type": "code",
   "execution_count": 22,
   "metadata": {},
   "outputs": [],
   "source": [
    "class Card:\n",
    "    \n",
    "    def __init__(self):\n",
    "        self.deck = [(i,j) for i in [\"Spade\", \"Heart\", \"Diamond\", \"Club\"]\n",
    "                           for j in range(1,14)]\n",
    "        \n",
    "    def draw(self, n=1):\n",
    "        return random.sample(self.deck, n)"
   ]
  },
  {
   "cell_type": "code",
   "execution_count": 31,
   "metadata": {},
   "outputs": [
    {
     "name": "stdout",
     "output_type": "stream",
     "text": [
      "[('Spade', 1), ('Spade', 2), ('Spade', 3), ('Spade', 4), ('Spade', 5), ('Spade', 6), ('Spade', 7), ('Spade', 8), ('Spade', 9), ('Spade', 10), ('Spade', 11), ('Spade', 12), ('Spade', 13), ('Heart', 1), ('Heart', 2), ('Heart', 3), ('Heart', 4), ('Heart', 5), ('Heart', 6), ('Heart', 7), ('Heart', 8), ('Heart', 9), ('Heart', 10), ('Heart', 11), ('Heart', 12), ('Heart', 13), ('Diamond', 1), ('Diamond', 2), ('Diamond', 3), ('Diamond', 4), ('Diamond', 5), ('Diamond', 6), ('Diamond', 7), ('Diamond', 8), ('Diamond', 9), ('Diamond', 10), ('Diamond', 11), ('Diamond', 12), ('Diamond', 13), ('Club', 1), ('Club', 2), ('Club', 3), ('Club', 4), ('Club', 5), ('Club', 6), ('Club', 7), ('Club', 8), ('Club', 9), ('Club', 10), ('Club', 11), ('Club', 12), ('Club', 13)]\n"
     ]
    }
   ],
   "source": [
    "table = Card()\n",
    "print(table.deck)"
   ]
  },
  {
   "cell_type": "code",
   "execution_count": 45,
   "metadata": {},
   "outputs": [
    {
     "name": "stdout",
     "output_type": "stream",
     "text": [
      "[('Club', 5)]\n"
     ]
    }
   ],
   "source": [
    "print(table.draw())"
   ]
  },
  {
   "cell_type": "markdown",
   "metadata": {},
   "source": [
    "## 継承"
   ]
  },
  {
   "cell_type": "code",
   "execution_count": 6,
   "metadata": {},
   "outputs": [],
   "source": [
    "class Card:\n",
    "    \n",
    "    def __init__(self):\n",
    "        self.deck = [[i,j] for i in [\"Spade\", \"Heart\", \"Diamond\", \"Club\"]\n",
    "                           for j in range(1,14)]\n",
    "        \n",
    "    def draw(self, n=1):\n",
    "        return random.sample(self.deck, n)"
   ]
  },
  {
   "cell_type": "code",
   "execution_count": 38,
   "metadata": {},
   "outputs": [],
   "source": [
    "class PlayBJ(Card):\n",
    "    def __init__(self):\n",
    "        #　ここでCardのinitを呼び出している。\n",
    "        super().__init__()\n",
    "        self.hand = None\n",
    "        self.numbers = None\n",
    "        self.sum = None\n",
    "        \n",
    "    def chengeface(self):\n",
    "        self.sum = 0\n",
    "        self.numbers = [i[1] for i in self.hand]\n",
    "        for i in self.numbers:\n",
    "            if i>10:\n",
    "                self.sum += 10 \n",
    "            else:\n",
    "                self.sum += i\n",
    "        return self.sum\n",
    "                        \n",
    "    def startgame(self):\n",
    "        self.hand = self.draw(2)\n",
    "        self.chengeface()\n",
    "        print(\"Your hand is ... \", self.hand)\n",
    "        \n",
    "        while True:\n",
    "            answer = input(\"Would you hit? (y/n)\")\n",
    "            if answer==\"y\":\n",
    "                self.hand += self.draw(n=1)\n",
    "                print(\"your hands is ... \", self.hand)\n",
    "                self.chengeface()\n",
    "                if self.sum>21:\n",
    "                    print(\"You bursted!\")\n",
    "                    break\n",
    "            elif answer==\"n\":\n",
    "                print(\"your hand is ... \", self.hand)\n",
    "                break"
   ]
  },
  {
   "cell_type": "markdown",
   "metadata": {},
   "source": [
    "***"
   ]
  },
  {
   "cell_type": "code",
   "execution_count": 39,
   "metadata": {},
   "outputs": [
    {
     "data": {
      "text/plain": [
       "[['Spade', 1], ['Spade', 2], ['Spade', 3], ['Spade', 4], ['Spade', 5]]"
      ]
     },
     "execution_count": 39,
     "metadata": {},
     "output_type": "execute_result"
    }
   ],
   "source": [
    "nanashono = PlayBJ()\n",
    "nanashono.deck[:5]"
   ]
  },
  {
   "cell_type": "code",
   "execution_count": 40,
   "metadata": {},
   "outputs": [
    {
     "data": {
      "text/plain": [
       "[['Spade', 10]]"
      ]
     },
     "execution_count": 40,
     "metadata": {},
     "output_type": "execute_result"
    }
   ],
   "source": [
    "nanashono.draw()"
   ]
  },
  {
   "cell_type": "code",
   "execution_count": 41,
   "metadata": {},
   "outputs": [
    {
     "name": "stdout",
     "output_type": "stream",
     "text": [
      "Your hand is ...  [['Diamond', 13], ['Diamond', 8]]\n",
      "Would you hit? (y/n)n\n",
      "your hand is ...  [['Diamond', 13], ['Diamond', 8]]\n"
     ]
    }
   ],
   "source": [
    "nanashono.startgame()"
   ]
  }
 ],
 "metadata": {
  "kernelspec": {
   "display_name": "Python 3",
   "language": "python",
   "name": "python3"
  },
  "language_info": {
   "codemirror_mode": {
    "name": "ipython",
    "version": 3
   },
   "file_extension": ".py",
   "mimetype": "text/x-python",
   "name": "python",
   "nbconvert_exporter": "python",
   "pygments_lexer": "ipython3",
   "version": "3.7.3"
  }
 },
 "nbformat": 4,
 "nbformat_minor": 2
}
