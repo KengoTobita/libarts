{
  "nbformat": 4,
  "nbformat_minor": 0,
  "metadata": {
    "kernelspec": {
      "display_name": "Python 3",
      "language": "python",
      "name": "python3"
    },
    "language_info": {
      "codemirror_mode": {
        "name": "ipython",
        "version": 3
      },
      "file_extension": ".py",
      "mimetype": "text/x-python",
      "name": "python",
      "nbconvert_exporter": "python",
      "pygments_lexer": "ipython3",
      "version": "3.7.3"
    },
    "colab": {
      "name": "jupyter_startup.ipynb",
      "provenance": [],
      "include_colab_link": true
    }
  },
  "cells": [
    {
      "cell_type": "markdown",
      "metadata": {
        "id": "view-in-github",
        "colab_type": "text"
      },
      "source": [
        "<a href=\"https://colab.research.google.com/github/KengoTobita/libarts/blob/master/jupyter_startup.ipynb\" target=\"_parent\"><img src=\"https://colab.research.google.com/assets/colab-badge.svg\" alt=\"Open In Colab\"/></a>"
      ]
    },
    {
      "cell_type": "markdown",
      "metadata": {
        "id": "FxNSXuusmweQ",
        "colab_type": "text"
      },
      "source": [
        "# Jupyter入門"
      ]
    },
    {
      "cell_type": "markdown",
      "metadata": {
        "id": "JP5lD1E1mweU",
        "colab_type": "text"
      },
      "source": [
        "# Hello World"
      ]
    },
    {
      "cell_type": "code",
      "metadata": {
        "id": "vtI9_hcqmweW",
        "colab_type": "code",
        "colab": {},
        "outputId": "1ee7afd1-1686-41a1-a07a-6df68c0fdb0e"
      },
      "source": [
        "print(\"Hello World\")"
      ],
      "execution_count": 0,
      "outputs": [
        {
          "output_type": "stream",
          "text": [
            "Hello World\n"
          ],
          "name": "stdout"
        }
      ]
    },
    {
      "cell_type": "markdown",
      "metadata": {
        "id": "vwgymka9mwee",
        "colab_type": "text"
      },
      "source": [
        "# データ型と変数と四則演算\n",
        "まずは簡単な計算をしましょう。<br>\n",
        "下記の通り簡単な計算は、表計算ソフトと同様の演算子で計算が可能です。"
      ]
    },
    {
      "cell_type": "code",
      "metadata": {
        "id": "geuuU_uHmweg",
        "colab_type": "code",
        "colab": {},
        "outputId": "30c38bb0-4952-4d5d-edb8-6e2003bbda8b"
      },
      "source": [
        "a = 10\n",
        "b = 5\n",
        "\n",
        "print((a+b)/5)\n",
        "print(a**2%3) # 10/3"
      ],
      "execution_count": 0,
      "outputs": [
        {
          "output_type": "stream",
          "text": [
            "3.0\n",
            "1\n"
          ],
          "name": "stdout"
        }
      ]
    },
    {
      "cell_type": "markdown",
      "metadata": {
        "id": "264FJVZymwem",
        "colab_type": "text"
      },
      "source": [
        "文字列をデータとして扱う際は、文字列の前後にクォーテーションかダブルクォーテーションをつけてください。<br>\n",
        "変数か文字型データか判別する必要があるためです。"
      ]
    },
    {
      "cell_type": "code",
      "metadata": {
        "id": "7XYOyU9kmweo",
        "colab_type": "code",
        "colab": {},
        "outputId": "f0f0edc2-c343-44af-e3f5-da477ff9b1b7"
      },
      "source": [
        "name = \"Aketi Mituhide\"\n",
        "print(name)"
      ],
      "execution_count": 0,
      "outputs": [
        {
          "output_type": "stream",
          "text": [
            "Aketi Mituhide\n"
          ],
          "name": "stdout"
        }
      ]
    },
    {
      "cell_type": "code",
      "metadata": {
        "id": "9tbd49Ocmwey",
        "colab_type": "code",
        "colab": {},
        "outputId": "038a84e9-44c4-4d75-c185-daf649ea0a99"
      },
      "source": [
        "name = oda_nobunaga"
      ],
      "execution_count": 0,
      "outputs": [
        {
          "output_type": "error",
          "ename": "NameError",
          "evalue": "name 'oda_nobunaga' is not defined",
          "traceback": [
            "\u001b[0;31m---------------------------------------------------------------------------\u001b[0m",
            "\u001b[0;31mNameError\u001b[0m                                 Traceback (most recent call last)",
            "\u001b[0;32m<ipython-input-20-dfdad6296679>\u001b[0m in \u001b[0;36m<module>\u001b[0;34m\u001b[0m\n\u001b[0;32m----> 1\u001b[0;31m \u001b[0mname\u001b[0m \u001b[0;34m=\u001b[0m \u001b[0moda_nobunaga\u001b[0m\u001b[0;34m\u001b[0m\u001b[0;34m\u001b[0m\u001b[0m\n\u001b[0m",
            "\u001b[0;31mNameError\u001b[0m: name 'oda_nobunaga' is not defined"
          ]
        }
      ]
    },
    {
      "cell_type": "markdown",
      "metadata": {
        "id": "vDeyoJHLmwe6",
        "colab_type": "text"
      },
      "source": [
        "ブール型を使用することで論理式を扱うことができます。"
      ]
    },
    {
      "cell_type": "code",
      "metadata": {
        "id": "jWmejJ_7mwe9",
        "colab_type": "code",
        "colab": {},
        "outputId": "00722744-1ba2-4bf3-846c-88e8fa75c9c1"
      },
      "source": [
        "10 < 1"
      ],
      "execution_count": 0,
      "outputs": [
        {
          "output_type": "execute_result",
          "data": {
            "text/plain": [
              "False"
            ]
          },
          "metadata": {
            "tags": []
          },
          "execution_count": 25
        }
      ]
    },
    {
      "cell_type": "markdown",
      "metadata": {
        "id": "BzOS0zjWmwfG",
        "colab_type": "text"
      },
      "source": [
        "データの連なりを扱いたい場合はリスト型を使用しましょう。"
      ]
    },
    {
      "cell_type": "code",
      "metadata": {
        "scrolled": true,
        "id": "Vs3LjHtWmwfN",
        "colab_type": "code",
        "colab": {},
        "outputId": "b01804f5-d086-4705-e099-7901d55f0b0f"
      },
      "source": [
        "tencount = [1, 2, 3, 4, 5, 6, 7, 8, 9, 10]\n",
        "tencount"
      ],
      "execution_count": 0,
      "outputs": [
        {
          "output_type": "execute_result",
          "data": {
            "text/plain": [
              "[1, 2, 3, 4, 5, 6, 7, 8, 9, 10]"
            ]
          },
          "metadata": {
            "tags": []
          },
          "execution_count": 6
        }
      ]
    },
    {
      "cell_type": "code",
      "metadata": {
        "id": "jFn8UKcbmwfU",
        "colab_type": "code",
        "colab": {},
        "outputId": "3fd700f2-6e0c-469c-ece7-d75cf91259a8"
      },
      "source": [
        "tencount[2]"
      ],
      "execution_count": 0,
      "outputs": [
        {
          "output_type": "execute_result",
          "data": {
            "text/plain": [
              "3"
            ]
          },
          "metadata": {
            "tags": []
          },
          "execution_count": 7
        }
      ]
    },
    {
      "cell_type": "markdown",
      "metadata": {
        "id": "lT61sx5imwfa",
        "colab_type": "text"
      },
      "source": [
        "辞書型というデータ型を使用して、データのペアを扱うことが可能です。"
      ]
    },
    {
      "cell_type": "code",
      "metadata": {
        "id": "tA-i6tpkmwfb",
        "colab_type": "code",
        "colab": {},
        "outputId": "229c615b-23cf-4ea1-ea36-477867708da5"
      },
      "source": [
        "ioccode = {\"Japan\":\"JPN\", \"America\":\"USA\", \"Russian\":\"RUS\"}\n",
        "ioccode[\"Japan\"]"
      ],
      "execution_count": 0,
      "outputs": [
        {
          "output_type": "execute_result",
          "data": {
            "text/plain": [
              "'JPN'"
            ]
          },
          "metadata": {
            "tags": []
          },
          "execution_count": 8
        }
      ]
    },
    {
      "cell_type": "markdown",
      "metadata": {
        "id": "Hr2FkeYlmwfj",
        "colab_type": "text"
      },
      "source": [
        "# よく使う組み込み関数"
      ]
    },
    {
      "cell_type": "code",
      "metadata": {
        "id": "pMf9eAlkmwfk",
        "colab_type": "code",
        "colab": {},
        "outputId": "328ec117-8462-402e-d47b-67399a39df75"
      },
      "source": [
        "tencount = [0, 1, 2, 3, 4, 5, 6, 7, 8, 9]\n",
        "print(tencount)\n",
        "print(\"The length of This list is...\", len(tencount))"
      ],
      "execution_count": 0,
      "outputs": [
        {
          "output_type": "stream",
          "text": [
            "[0, 1, 2, 3, 4, 5, 6, 7, 8, 9]\n",
            "The length of This list is... 10\n"
          ],
          "name": "stdout"
        }
      ]
    },
    {
      "cell_type": "markdown",
      "metadata": {
        "id": "17cdIrKJmwfq",
        "colab_type": "text"
      },
      "source": [
        "# 繰り返し処理 (for, while)\n",
        "for文とwhile文について紹介します。"
      ]
    },
    {
      "cell_type": "code",
      "metadata": {
        "id": "PpRo7q8ymwfs",
        "colab_type": "code",
        "colab": {},
        "outputId": "33f06673-7e8d-450a-a5b4-6063b88ae123"
      },
      "source": [
        "for i in [1, 2, 3, 4]:\n",
        "    print(i)"
      ],
      "execution_count": 0,
      "outputs": [
        {
          "output_type": "stream",
          "text": [
            "1\n",
            "2\n",
            "3\n",
            "4\n"
          ],
          "name": "stdout"
        }
      ]
    },
    {
      "cell_type": "code",
      "metadata": {
        "id": "89Tq90Snmwfx",
        "colab_type": "code",
        "colab": {},
        "outputId": "e3f2eba4-efbc-4b0c-b39a-6b18896b745b"
      },
      "source": [
        "for i in range(10):\n",
        "    print(i**2)"
      ],
      "execution_count": 0,
      "outputs": [
        {
          "output_type": "stream",
          "text": [
            "0\n",
            "1\n",
            "4\n",
            "9\n",
            "16\n",
            "25\n",
            "36\n",
            "49\n",
            "64\n",
            "81\n"
          ],
          "name": "stdout"
        }
      ]
    },
    {
      "cell_type": "code",
      "metadata": {
        "id": "k4ZO8V0Zmwf2",
        "colab_type": "code",
        "colab": {},
        "outputId": "06bf73b9-8045-4172-aa7f-3a01c7c6d069"
      },
      "source": [
        "a = 0\n",
        "\n",
        "while a <= 10 :\n",
        "    print(a)\n",
        "    a += 1"
      ],
      "execution_count": 0,
      "outputs": [
        {
          "output_type": "stream",
          "text": [
            "0\n",
            "1\n",
            "2\n",
            "3\n",
            "4\n",
            "5\n",
            "6\n",
            "7\n",
            "8\n",
            "9\n",
            "10\n"
          ],
          "name": "stdout"
        }
      ]
    },
    {
      "cell_type": "markdown",
      "metadata": {
        "id": "oP_gXC8wmwf8",
        "colab_type": "text"
      },
      "source": [
        "# 条件分岐"
      ]
    },
    {
      "cell_type": "code",
      "metadata": {
        "id": "X5rmWc4Cmwf-",
        "colab_type": "code",
        "colab": {},
        "outputId": "2b714f2b-f443-4b84-b1a9-3c3138f489b4"
      },
      "source": [
        "# ここで年齢を聞きます。コードの内容は気にしないでください。\n",
        "age = int(input(\"あなたの年齢を教えてください。(半角英数で入力)\"))\n",
        "\n",
        "# ここからが条件分岐です。\n",
        "if age < 20 :\n",
        "    print(\"帰ってミルクでも飲んでな！\")\n",
        "elif age > 23 :\n",
        "    print(\"ご相伴させてください。\")\n",
        "else:\n",
        "    print(\"飲みに行きませんか？\")"
      ],
      "execution_count": 0,
      "outputs": [
        {
          "output_type": "stream",
          "text": [
            "あなたの年齢を教えてください。(半角英数で入力)22\n",
            "飲みに行きませんか？\n"
          ],
          "name": "stdout"
        }
      ]
    },
    {
      "cell_type": "markdown",
      "metadata": {
        "id": "9p66E-B6mwgE",
        "colab_type": "text"
      },
      "source": [
        "# 関数"
      ]
    },
    {
      "cell_type": "code",
      "metadata": {
        "id": "AkFVrevCmwgG",
        "colab_type": "code",
        "colab": {}
      },
      "source": [
        "def fizzbuzz(start=1, end=16):\n",
        "    \n",
        "    for i in range(start, end):\n",
        "        if i%15 == 0 :\n",
        "            print(\"fizzbuzz\")\n",
        "        elif i%3 == 0 :\n",
        "            print(\"fizz\")\n",
        "        elif i%5 ==0 :\n",
        "            print(\"buzz\")\n",
        "        else :\n",
        "            print(i)"
      ],
      "execution_count": 0,
      "outputs": []
    },
    {
      "cell_type": "code",
      "metadata": {
        "id": "8gHAW03rmwgQ",
        "colab_type": "code",
        "colab": {},
        "outputId": "a44791d1-8d5c-408b-bed1-2ca949d0f63c"
      },
      "source": [
        "fizzbuzz()"
      ],
      "execution_count": 0,
      "outputs": [
        {
          "output_type": "stream",
          "text": [
            "1\n",
            "2\n",
            "fizz\n",
            "4\n",
            "buzz\n",
            "fizz\n",
            "7\n",
            "8\n",
            "fizz\n",
            "buzz\n",
            "11\n",
            "fizz\n",
            "13\n",
            "14\n",
            "fizzbuzz\n"
          ],
          "name": "stdout"
        }
      ]
    },
    {
      "cell_type": "markdown",
      "metadata": {
        "id": "SaqrbjoAmwgV",
        "colab_type": "text"
      },
      "source": [
        "# クラスとライブラリ\n",
        "今日は少し触る程度ですがクラスとライブラリについて紹介します。<br>\n",
        "クラスを使用して、データと機能を組み合わせたものを作成できます……が、<br>\n",
        "今日はそんなに覚えなくてもいいです。名前だけでも覚えて帰ってください。"
      ]
    },
    {
      "cell_type": "code",
      "metadata": {
        "id": "UhcECUqAmwgW",
        "colab_type": "code",
        "colab": {},
        "outputId": "0b31bb20-9a64-4be3-c6b3-563db08b38c7"
      },
      "source": [
        "class Print_age():\n",
        "    \n",
        "    def __init__(self, born, died):\n",
        "        self.born = born\n",
        "        self.died = died\n",
        "        \n",
        "    def print_age(self):\n",
        "        print(self.died - self.born)\n",
        "        \n",
        "yukiti = Print_age(1835, 1901)\n",
        "yukiti.print_age()"
      ],
      "execution_count": 0,
      "outputs": [
        {
          "output_type": "stream",
          "text": [
            "66\n"
          ],
          "name": "stdout"
        }
      ]
    },
    {
      "cell_type": "markdown",
      "metadata": {
        "id": "9TT4KhsJmwgb",
        "colab_type": "text"
      },
      "source": [
        "クラスについてはよく分からないままでしょう。<br>\n",
        "ですが、頭のいい方々がクラスを利用して作成されたプログラムを<br>\n",
        "僕達の手で動かくことができます。<br>\n",
        "それがライブラリです。"
      ]
    },
    {
      "cell_type": "code",
      "metadata": {
        "id": "E26XLTK8mwge",
        "colab_type": "code",
        "colab": {}
      },
      "source": [
        "import numpy \n",
        "\n",
        "def circle_area(radius):\n",
        "    area = radius**2* numpy.pi\n",
        "    print(area)\n",
        "    \n",
        "circle_area(20)"
      ],
      "execution_count": 0,
      "outputs": []
    },
    {
      "cell_type": "markdown",
      "metadata": {
        "id": "TtcY1hMtmwgm",
        "colab_type": "text"
      },
      "source": [
        "# 最後にムダ知識\n",
        "jupyterをうまく使えば色々な事が可能になります。<br>\n",
        "例えばPython以外の言語が使用できたり、<br>\n",
        "markdownの中に$Tex$を埋め込んだり、<br>\n",
        "コードのはじめに「！」を書き込むと簡単なlinuxコマンドが使用できたり、<br>\n",
        "Ipythonライブラリを使用することで様々なことが可能です。<br>\n",
        "<br>\n",
        "興味が出たら使って見てください。"
      ]
    }
  ]
}