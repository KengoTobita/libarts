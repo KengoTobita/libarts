{
  "nbformat": 4,
  "nbformat_minor": 0,
  "metadata": {
    "kernelspec": {
      "display_name": "Python 3",
      "language": "python",
      "name": "python3"
    },
    "language_info": {
      "codemirror_mode": {
        "name": "ipython",
        "version": 3
      },
      "file_extension": ".py",
      "mimetype": "text/x-python",
      "name": "python",
      "nbconvert_exporter": "python",
      "pygments_lexer": "ipython3",
      "version": "3.7.6"
    },
    "colab": {
      "name": "Pytorch_startup.ipynb",
      "provenance": [],
      "include_colab_link": true
    }
  },
  "cells": [
    {
      "cell_type": "markdown",
      "metadata": {
        "id": "view-in-github",
        "colab_type": "text"
      },
      "source": [
        "<a href=\"https://colab.research.google.com/github/KengoTobita/libarts/blob/master/Pytorch_startup.ipynb\" target=\"_parent\"><img src=\"https://colab.research.google.com/assets/colab-badge.svg\" alt=\"Open In Colab\"/></a>"
      ]
    },
    {
      "cell_type": "markdown",
      "metadata": {
        "id": "v12zn95q2bQX",
        "colab_type": "text"
      },
      "source": [
        "# Pytorchの基本\n",
        "Deep Learningの実装では多くの場合フレームワークを使用します。<br>\n",
        "メジャーなフレームワークとして、KerasやTensorflowなどがありますが、<br>\n",
        "本講座ではPytorchを使用していきます。<br>\n",
        "<br>\n",
        "PytorchはDLフレームワークとしては後発のものですが、<br>\n",
        "他のフームワークと比べ複雑なモデルの構築に向いているため、近年人気が伸びています。<br>\n",
        "KerasのSequentialモデルと比較して記述が複雑ではありますが、慣れてしまえば簡単です。<br>\n",
        "\n",
        "# Pytorchのインストール\n",
        "Pytorchは一般的なPythonライブラリと同様にpipでインストールすることが可能です。<br>\n",
        "(環境によっては`pip3`だったり`pip`だったりするので確認を……)"
      ]
    },
    {
      "cell_type": "code",
      "metadata": {
        "scrolled": true,
        "id": "Z8b5IVoN2bQb",
        "colab_type": "code",
        "colab": {},
        "outputId": "98b3bd39-5806-4cb5-d7d0-6813bd9227b2"
      },
      "source": [
        "!pip install torch\n",
        "# pip install torch==1.0.0"
      ],
      "execution_count": 0,
      "outputs": [
        {
          "output_type": "stream",
          "text": [
            "Collecting torch\n",
            "  Downloading torch-1.4.0-cp37-cp37m-manylinux1_x86_64.whl (753.4 MB)\n",
            "\u001b[K     |████████████████████████████████| 753.4 MB 4.6 kB/s eta 0:00:011     |████████████▎                   | 289.3 MB 7.1 MB/s eta 0:01:06     |████████████████████▍           | 479.5 MB 9.8 MB/s eta 0:00:28     |█████████████████████           | 492.9 MB 7.1 MB/s eta 0:00:37     |██████████████████████████▏     | 615.0 MB 11.8 MB/s eta 0:00:12     |████████████████████████████▏   | 662.2 MB 7.9 MB/s eta 0:00:12     |████████████████████████████▏   | 663.5 MB 7.9 MB/s eta 0:00:12     |█████████████████████████████▏  | 687.9 MB 10.2 MB/s eta 0:00:07     |█████████████████████████████▍  | 691.0 MB 10.2 MB/s eta 0:00:07\n",
            "\u001b[?25hInstalling collected packages: torch\n",
            "Successfully installed torch-1.4.0\n"
          ],
          "name": "stdout"
        }
      ]
    },
    {
      "cell_type": "code",
      "metadata": {
        "id": "odCYntcu2bQl",
        "colab_type": "code",
        "colab": {},
        "outputId": "9c783073-a4b3-4daa-b7fd-162d0ec29c15"
      },
      "source": [
        "!pip install torchvision\n",
        "# pip install torchvision==0.2.2.post3"
      ],
      "execution_count": 0,
      "outputs": [
        {
          "output_type": "stream",
          "text": [
            "Collecting torchvision\n",
            "  Downloading torchvision-0.5.0-cp37-cp37m-manylinux1_x86_64.whl (4.0 MB)\n",
            "\u001b[K     |████████████████████████████████| 4.0 MB 2.2 MB/s eta 0:00:01\n",
            "\u001b[?25hRequirement already satisfied: numpy in /opt/conda/lib/python3.7/site-packages (from torchvision) (1.18.1)\n",
            "Requirement already satisfied: pillow>=4.1.1 in /opt/conda/lib/python3.7/site-packages (from torchvision) (7.0.0)\n",
            "Requirement already satisfied: six in /opt/conda/lib/python3.7/site-packages (from torchvision) (1.14.0)\n",
            "Requirement already satisfied: torch==1.4.0 in /opt/conda/lib/python3.7/site-packages (from torchvision) (1.4.0)\n",
            "Installing collected packages: torchvision\n",
            "Successfully installed torchvision-0.5.0\n"
          ],
          "name": "stdout"
        }
      ]
    },
    {
      "cell_type": "markdown",
      "metadata": {
        "id": "T-fVUmOP2bQs",
        "colab_type": "text"
      },
      "source": [
        "*** \n",
        "# Pytorchを使用してみよう\n",
        "PytorchとNumpyの使用法は非常に似ています。<br>\n",
        "(具体的にはtorch.Tensorとnumpy)<br>\n",
        "ちょっと比べて遊んでみましょう。"
      ]
    },
    {
      "cell_type": "code",
      "metadata": {
        "scrolled": true,
        "id": "4tDefPMH2bQu",
        "colab_type": "code",
        "colab": {},
        "outputId": "6521e779-ad0d-4bf1-d501-fde35c632947"
      },
      "source": [
        "import numpy as np\n",
        "\n",
        "np.random.rand(5,3)"
      ],
      "execution_count": 0,
      "outputs": [
        {
          "output_type": "execute_result",
          "data": {
            "text/plain": [
              "array([[0.37041896, 0.29177649, 0.44787035],\n",
              "       [0.80256833, 0.85847219, 0.73132679],\n",
              "       [0.39655734, 0.81532736, 0.78306572],\n",
              "       [0.77681928, 0.57130169, 0.23434097],\n",
              "       [0.68645574, 0.20437518, 0.71684916]])"
            ]
          },
          "metadata": {
            "tags": []
          },
          "execution_count": 97
        }
      ]
    },
    {
      "cell_type": "code",
      "metadata": {
        "scrolled": false,
        "id": "FJAcDxFj2bQ1",
        "colab_type": "code",
        "colab": {},
        "outputId": "ba369202-192c-4536-aca4-b36eb2f52b02"
      },
      "source": [
        "import torch\n",
        "\n",
        "import torchvision\n",
        "\n",
        "torch.rand(5,3)"
      ],
      "execution_count": 0,
      "outputs": [
        {
          "output_type": "execute_result",
          "data": {
            "text/plain": [
              "tensor([[0.8028, 0.3739, 0.9922],\n",
              "        [0.7415, 0.6478, 0.4500],\n",
              "        [0.1866, 0.3018, 0.2092],\n",
              "        [0.7852, 0.8373, 0.6822],\n",
              "        [0.9255, 0.6630, 0.6017]])"
            ]
          },
          "metadata": {
            "tags": []
          },
          "execution_count": 99
        }
      ]
    },
    {
      "cell_type": "markdown",
      "metadata": {
        "id": "G1MiR_2I2bQ7",
        "colab_type": "text"
      },
      "source": [
        "ゼロの生成\n"
      ]
    },
    {
      "cell_type": "code",
      "metadata": {
        "id": "zgMHsooX2bQ9",
        "colab_type": "code",
        "colab": {},
        "outputId": "2c065304-f2f9-4b49-b50b-8489ee479fb9"
      },
      "source": [
        "np.zeros((5,3))"
      ],
      "execution_count": 0,
      "outputs": [
        {
          "output_type": "execute_result",
          "data": {
            "text/plain": [
              "array([[0., 0., 0.],\n",
              "       [0., 0., 0.],\n",
              "       [0., 0., 0.],\n",
              "       [0., 0., 0.],\n",
              "       [0., 0., 0.]])"
            ]
          },
          "metadata": {
            "tags": []
          },
          "execution_count": 100
        }
      ]
    },
    {
      "cell_type": "code",
      "metadata": {
        "id": "HU3lqNsz2bRE",
        "colab_type": "code",
        "colab": {},
        "outputId": "f5abc01a-7318-4ee8-efb9-6e91359087da"
      },
      "source": [
        "torch.zeros(5,3)"
      ],
      "execution_count": 0,
      "outputs": [
        {
          "output_type": "execute_result",
          "data": {
            "text/plain": [
              "tensor([[0., 0., 0.],\n",
              "        [0., 0., 0.],\n",
              "        [0., 0., 0.],\n",
              "        [0., 0., 0.],\n",
              "        [0., 0., 0.]])"
            ]
          },
          "metadata": {
            "tags": []
          },
          "execution_count": 7
        }
      ]
    },
    {
      "cell_type": "code",
      "metadata": {
        "id": "HkfuxCTX2bRL",
        "colab_type": "code",
        "colab": {},
        "outputId": "982a16c1-9137-406f-a1b6-cb7a333b9eb7"
      },
      "source": [
        "torch.tensor([5.5,3])"
      ],
      "execution_count": 0,
      "outputs": [
        {
          "output_type": "execute_result",
          "data": {
            "text/plain": [
              "tensor([5.5000, 3.0000])"
            ]
          },
          "metadata": {
            "tags": []
          },
          "execution_count": 8
        }
      ]
    },
    {
      "cell_type": "markdown",
      "metadata": {
        "id": "as3-EMvG2bRR",
        "colab_type": "text"
      },
      "source": [
        "1のテンソル"
      ]
    },
    {
      "cell_type": "code",
      "metadata": {
        "id": "5Pzzpb532bRT",
        "colab_type": "code",
        "colab": {},
        "outputId": "9e78f803-e9d6-4ab7-cb69-c151f1e04e13"
      },
      "source": [
        "np.ones((5,3))"
      ],
      "execution_count": 0,
      "outputs": [
        {
          "output_type": "execute_result",
          "data": {
            "text/plain": [
              "array([[1., 1., 1.],\n",
              "       [1., 1., 1.],\n",
              "       [1., 1., 1.],\n",
              "       [1., 1., 1.],\n",
              "       [1., 1., 1.]])"
            ]
          },
          "metadata": {
            "tags": []
          },
          "execution_count": 102
        }
      ]
    },
    {
      "cell_type": "code",
      "metadata": {
        "id": "HXTuJ8wO2bRb",
        "colab_type": "code",
        "colab": {},
        "outputId": "33355ca7-25da-4944-b101-31110b3de977"
      },
      "source": [
        "torch.ones(5, 3, dtype=torch.double)"
      ],
      "execution_count": 0,
      "outputs": [
        {
          "output_type": "execute_result",
          "data": {
            "text/plain": [
              "tensor([[1., 1., 1.],\n",
              "        [1., 1., 1.],\n",
              "        [1., 1., 1.],\n",
              "        [1., 1., 1.],\n",
              "        [1., 1., 1.]], dtype=torch.float64)"
            ]
          },
          "metadata": {
            "tags": []
          },
          "execution_count": 10
        }
      ]
    },
    {
      "cell_type": "code",
      "metadata": {
        "id": "1VEOrW8J2bRi",
        "colab_type": "code",
        "colab": {},
        "outputId": "1058aba0-eb23-4108-f033-7ec1fc79631e"
      },
      "source": [
        "torch.randn_like(x, dtype=torch.float)"
      ],
      "execution_count": 0,
      "outputs": [
        {
          "output_type": "execute_result",
          "data": {
            "text/plain": [
              "tensor([[-0.6695, -1.2559, -1.0618],\n",
              "        [-0.3863,  0.5426,  0.5391],\n",
              "        [ 0.2109,  0.4228, -0.0670],\n",
              "        [-1.6574,  1.2373, -0.5410],\n",
              "        [ 1.2556,  0.0421,  1.1801]])"
            ]
          },
          "metadata": {
            "tags": []
          },
          "execution_count": 11
        }
      ]
    },
    {
      "cell_type": "markdown",
      "metadata": {
        "id": "kOur5iIP2bRn",
        "colab_type": "text"
      },
      "source": [
        "***\n",
        "# 3.2 Neural Networkの実装\n",
        "Pytorchの公式チュートリアルでは「Getting Started」として沢山のコンテンツが公開されています。<br>\n",
        "今回は左上の「Deep Learning with Pytorch: A 60 Minute Blitz」を勉強します。<br>\n",
        "\n",
        "## Autograd(自動微分)について"
      ]
    },
    {
      "cell_type": "code",
      "metadata": {
        "id": "YE9QMHNn2bRo",
        "colab_type": "code",
        "colab": {},
        "outputId": "ec964c41-5ca1-49c1-c260-d3632a56fde0"
      },
      "source": [
        "import torch \n",
        "\n",
        "# requires_gradがTrueだと自動微分\n",
        "x = torch.ones(2,2, requires_grad=True)\n",
        "\n",
        "print(x)\n",
        "print(type(x))"
      ],
      "execution_count": 0,
      "outputs": [
        {
          "output_type": "stream",
          "text": [
            "tensor([[1., 1.],\n",
            "        [1., 1.]], requires_grad=True)\n",
            "<class 'torch.Tensor'>\n"
          ],
          "name": "stdout"
        }
      ]
    },
    {
      "cell_type": "markdown",
      "metadata": {
        "id": "YChGF42q2bRt",
        "colab_type": "text"
      },
      "source": [
        "type関数でxを見ると、`<class 'torch.Tensor'>`が出力されます。<br>\n",
        "これはxが\"Tensor\"クラスのインスタンスであることを表しています。<br>\n",
        "また、x定義時に`requires_grad`を`True`にしていることも確認しておいてください。"
      ]
    },
    {
      "cell_type": "code",
      "metadata": {
        "id": "5d5hN3jq2bRv",
        "colab_type": "code",
        "colab": {},
        "outputId": "d0cc08c8-213c-4599-a176-92a0b467e5c2"
      },
      "source": [
        "y = x+2\n",
        "\n",
        "print(y)\n",
        "print(y.grad_fn)"
      ],
      "execution_count": 0,
      "outputs": [
        {
          "output_type": "stream",
          "text": [
            "tensor([[3., 3.],\n",
            "        [3., 3.]], grad_fn=<AddBackward0>)\n",
            "<AddBackward0 object at 0x7f2efaefd0d0>\n"
          ],
          "name": "stdout"
        }
      ]
    },
    {
      "cell_type": "markdown",
      "metadata": {
        "id": "L7S4CN9b2bR0",
        "colab_type": "text"
      },
      "source": [
        "`x`を入力として$y=x+2$を生成する`y`は属性`grad_fm`を持っています。<br>\n",
        "これは`y`が演算の結果として生成されたためだとされています。<br>\n",
        "さらに`y`に演算を行い`z`を生成します。"
      ]
    },
    {
      "cell_type": "code",
      "metadata": {
        "id": "t-XEgJKq2bR2",
        "colab_type": "code",
        "colab": {},
        "outputId": "e1462c86-0e37-4886-af0f-ad64214718de"
      },
      "source": [
        "z = y*y*3 \n",
        "out = z.mean()\n",
        "\n",
        "print(z)\n",
        "print(out)"
      ],
      "execution_count": 0,
      "outputs": [
        {
          "output_type": "stream",
          "text": [
            "tensor([[27., 27.],\n",
            "        [27., 27.]], grad_fn=<MulBackward0>)\n",
            "tensor(27., grad_fn=<MeanBackward0>)\n"
          ],
          "name": "stdout"
        }
      ]
    },
    {
      "cell_type": "markdown",
      "metadata": {
        "id": "Hin7XSj42bSA",
        "colab_type": "text"
      },
      "source": [
        "上記のように$y\\times y \\times 3$という演算を行いました。<br>\n",
        "`z`は`y`は3なので$y^3$で27です。<br>\n",
        "そのため`z.mean()`で平均をとっても27です。"
      ]
    },
    {
      "cell_type": "code",
      "metadata": {
        "id": "pGGBMnA72bSC",
        "colab_type": "code",
        "colab": {},
        "outputId": "e77203ca-da07-4551-ae2f-0a319cc22943"
      },
      "source": [
        "out.backward()\n",
        "print(x.grad)"
      ],
      "execution_count": 0,
      "outputs": [
        {
          "output_type": "stream",
          "text": [
            "tensor([[4.5000, 4.5000],\n",
            "        [4.5000, 4.5000]])\n"
          ],
          "name": "stdout"
        }
      ]
    },
    {
      "cell_type": "markdown",
      "metadata": {
        "id": "QUOc5r8B2bSI",
        "colab_type": "text"
      },
      "source": [
        "値はすべて4.5になっています。<br>\n",
        "$((x+2)^2)'=6(x+2)$において$x＝1$にすると18ですが、<br>\n",
        "最後に`z.mean()`で平均しているので値が4.5になっています。<br>"
      ]
    },
    {
      "cell_type": "markdown",
      "metadata": {
        "id": "3A7gYbZe2bSK",
        "colab_type": "text"
      },
      "source": [
        "# 3.2 Neural Networkの実装\n",
        "\n",
        "1. 学習可能なネットワークを定義する。\n",
        "1. 入力データセットに関して繰り返し処理を行う。\n",
        "1. ネットワークにおいて入力を計算する\n",
        "1. 出力結果がどのくらい正解と異なっているか計算する\n",
        "1. ネットワークのパラメータに対し誤差逆伝播を実行する。\n",
        "1. $weight = weight - learning rate \\times gradient$のような感じで重みをアップデート\n",
        "\n",
        "# 3.2.1 Difine Network"
      ]
    },
    {
      "cell_type": "code",
      "metadata": {
        "id": "4aIG3Bwp2bSM",
        "colab_type": "code",
        "colab": {},
        "outputId": "9d20649f-717a-4942-d48f-9e9d575d546a"
      },
      "source": [
        "import torch\n",
        "import torch.nn as nn\n",
        "import torch.nn.functional as F\n",
        "\n",
        "class Net(nn.Module):\n",
        "    def __init__(self):\n",
        "        super(Net, self).__init__()\n",
        "        # 1 input image channel, 6 output channels, 3x3 square convolution\n",
        "        # kernel\n",
        "        self.conv1 = nn.Conv2d(1, 6, 3)\n",
        "        self.conv2 = nn.Conv2d(6, 16, 3)\n",
        "        # an affine operation: y = Wx + b\n",
        "        self.fc1 = nn.Linear(16 * 6 * 6, 120)  # 6*6 from image dimension\n",
        "        self.fc2 = nn.Linear(120, 84)\n",
        "        self.fc3 = nn.Linear(84, 10)\n",
        "\n",
        "    def forward(self, x):\n",
        "        # Max pooling over a (2, 2) window\n",
        "        x = F.max_pool2d(F.relu(self.conv1(x)), (2, 2))\n",
        "        # If the size is a square you can only specify a single number\n",
        "        x = F.max_pool2d(F.relu(self.conv2(x)), 2)\n",
        "        x = x.view(-1, self.num_flat_features(x))\n",
        "        x = F.relu(self.fc1(x))\n",
        "        x = F.relu(self.fc2(x))\n",
        "        x = self.fc3(x)\n",
        "        return x\n",
        "\n",
        "    def num_flat_features(self, x):\n",
        "        size = x.size()[1:]  # all dimensions except the batch dimension\n",
        "        num_features = 1\n",
        "        for s in size:\n",
        "            num_features *= s\n",
        "        return num_features\n",
        "\n",
        "\n",
        "net = Net()\n",
        "print(net)"
      ],
      "execution_count": 0,
      "outputs": [
        {
          "output_type": "stream",
          "text": [
            "Net(\n",
            "  (conv1): Conv2d(1, 6, kernel_size=(3, 3), stride=(1, 1))\n",
            "  (conv2): Conv2d(6, 16, kernel_size=(3, 3), stride=(1, 1))\n",
            "  (fc1): Linear(in_features=576, out_features=120, bias=True)\n",
            "  (fc2): Linear(in_features=120, out_features=84, bias=True)\n",
            "  (fc3): Linear(in_features=84, out_features=10, bias=True)\n",
            ")\n"
          ],
          "name": "stdout"
        }
      ]
    },
    {
      "cell_type": "markdown",
      "metadata": {
        "id": "EH-fRVXX2bSR",
        "colab_type": "text"
      },
      "source": [
        "ここでは各パラメータの確認をしています<br>\n",
        "`net.parameters()`でパラメータの確認をすることが可能です。"
      ]
    },
    {
      "cell_type": "code",
      "metadata": {
        "id": "EI-XAODD2bSS",
        "colab_type": "code",
        "colab": {},
        "outputId": "bb481cac-1457-4ec6-9812-1e4bcb5467ac"
      },
      "source": [
        "params = list(net.parameters())\n",
        "print(len(params))\n",
        "print(params[0].size())  # conv1"
      ],
      "execution_count": 0,
      "outputs": [
        {
          "output_type": "stream",
          "text": [
            "10\n",
            "torch.Size([6, 1, 3, 3])\n"
          ],
          "name": "stdout"
        }
      ]
    },
    {
      "cell_type": "markdown",
      "metadata": {
        "id": "uUwOV_uW2bSX",
        "colab_type": "text"
      },
      "source": [
        "## 3.2.2 Loss function\n",
        "ここでは損失関数を定義します。\n",
        "今回は平均二乗誤差を使用します。"
      ]
    },
    {
      "cell_type": "code",
      "metadata": {
        "id": "qsZLIlQ22bSY",
        "colab_type": "code",
        "colab": {},
        "outputId": "cd13aef7-150d-457b-ed6f-e36ce64659d2"
      },
      "source": [
        "output = net(input)\n",
        "target = torch.randn(10)  # a dummy target, for example\n",
        "target = target.view(1, -1)  # make it the same shape as output\n",
        "criterion = nn.MSELoss()\n",
        "\n",
        "loss = criterion(output, target)\n",
        "print(loss)"
      ],
      "execution_count": 0,
      "outputs": [
        {
          "output_type": "stream",
          "text": [
            "tensor(0.7788, grad_fn=<MseLossBackward>)\n"
          ],
          "name": "stdout"
        }
      ]
    },
    {
      "cell_type": "code",
      "metadata": {
        "id": "h62rhOKJ2bSg",
        "colab_type": "code",
        "colab": {},
        "outputId": "edef1671-6c18-4927-be2b-afbd04592d3d"
      },
      "source": [
        "net.zero_grad()     # zeroes the gradient buffers of all parameters\n",
        "\n",
        "print('conv1.bias.grad before backward')\n",
        "print(net.conv1.bias.grad)\n",
        "\n",
        "loss.backward()\n",
        "\n",
        "print('conv1.bias.grad after backward')\n",
        "print(net.conv1.bias.grad)"
      ],
      "execution_count": 0,
      "outputs": [
        {
          "output_type": "stream",
          "text": [
            "conv1.bias.grad before backward\n",
            "tensor([0., 0., 0., 0., 0., 0.])\n",
            "conv1.bias.grad after backward\n",
            "tensor([-0.0061, -0.0130, -0.0082, -0.0023,  0.0020,  0.0133])\n"
          ],
          "name": "stdout"
        }
      ]
    },
    {
      "cell_type": "markdown",
      "metadata": {
        "id": "229IAgLw2bSk",
        "colab_type": "text"
      },
      "source": [
        "### 3.2.4~3.2.5 BackDrop & Update the Weights "
      ]
    },
    {
      "cell_type": "code",
      "metadata": {
        "id": "jQBPGtkC2bSm",
        "colab_type": "code",
        "colab": {}
      },
      "source": [
        "learning_rate = 0.01\n",
        "for f in net.parameters():\n",
        "    f.data.sub_(f.grad.data * learning_rate)\n",
        "    \n",
        "import torch.optim as optim\n",
        "\n",
        "# create your optimizer\n",
        "optimizer = optim.SGD(net.parameters(), lr=0.01)\n",
        "\n",
        "# in your training loop:\n",
        "optimizer.zero_grad()   # zero the gradient buffers\n",
        "output = net(input)\n",
        "loss = criterion(output, target)\n",
        "loss.backward()\n",
        "optimizer.step()  "
      ],
      "execution_count": 0,
      "outputs": []
    },
    {
      "cell_type": "markdown",
      "metadata": {
        "id": "cRNXaLH02bSr",
        "colab_type": "text"
      },
      "source": [
        "***"
      ]
    }
  ]
}