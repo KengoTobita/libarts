{
 "cells": [
  {
   "cell_type": "markdown",
   "metadata": {},
   "source": [
    "# ch01 体\n",
    "## 1.1 複素数入門\n",
    "方程式$x^2 =-1$は実数の範囲では解を持たない。この隙間を埋めるために数学者は$　i　$を導入した。<bR>\n",
    "これは太字の$i$で「アイ」と発音し、通常は**-1の平方根**として定義している<br>\n",
    "<br>\n",
    "$$\n",
    "i^2  = -1 \n",
    "$$\n",
    "<br>この両辺に9をかけると次を得る。\n",
    "$$ \n",
    "9i^2 = -9\n",
    "$$ \n",
    "更にこのように変形することができる。\n",
    "$$\n",
    "(3i)^2 = -9\n",
    "$$\n",
    "<br>\n",
    "従って$3i$は$x^2 = -9$の解である。<Br>\n",
    "同様に、任意の正の数$b$に対する方程式$x^2 =-b$の解は$\\sqrt{b}$に$i$を掛けたものとなる。<br>\n",
    "このように実数とiとの積によって作られる数を虚数と呼ぶ($imaginary~number$)と呼ぶ。<br>\n",
    "$(x-1)^2 = -9$の場合はどうだろうか？これは$x-1=3i$となるので、解は$x=1+3i$である。<br>\n",
    "このような実数と虚数との和を**複素数**($complex~number$)という。<br>\n",
    "複素数は**実部**($real~part$)と**虚部**($imaginary~part$)を持つ。<br>\n",
    "    \n",
    "## 1.2 Pythonにおける複素数\n",
    "Pythonでは複素数をサポートしている。<br>\n",
    "$-9$の平方根は$-3i$であるが、Pythonでは`3j`と書く。<br>\n",
    "(電気工学ではiを電流の意味で使用するため)"
   ]
  },
  {
   "cell_type": "code",
   "execution_count": 1,
   "metadata": {},
   "outputs": [
    {
     "data": {
      "text/plain": [
       "3j"
      ]
     },
     "execution_count": 1,
     "metadata": {},
     "output_type": "execute_result"
    }
   ],
   "source": [
    "3j"
   ]
  },
  {
   "cell_type": "markdown",
   "metadata": {},
   "source": [
    "-1の平方根である虚数iは、変数のjと混同しないよう、`1j`と書く。"
   ]
  },
  {
   "cell_type": "code",
   "execution_count": 2,
   "metadata": {},
   "outputs": [
    {
     "ename": "NameError",
     "evalue": "name 'j' is not defined",
     "output_type": "error",
     "traceback": [
      "\u001b[0;31m---------------------------------------------------------------------------\u001b[0m",
      "\u001b[0;31mNameError\u001b[0m                                 Traceback (most recent call last)",
      "\u001b[0;32m<ipython-input-2-3eedd8854d1e>\u001b[0m in \u001b[0;36m<module>\u001b[0;34m\u001b[0m\n\u001b[0;32m----> 1\u001b[0;31m \u001b[0mj\u001b[0m\u001b[0;34m\u001b[0m\u001b[0;34m\u001b[0m\u001b[0m\n\u001b[0m",
      "\u001b[0;31mNameError\u001b[0m: name 'j' is not defined"
     ]
    }
   ],
   "source": [
    "j"
   ]
  },
  {
   "cell_type": "code",
   "execution_count": 3,
   "metadata": {},
   "outputs": [
    {
     "data": {
      "text/plain": [
       "1j"
      ]
     },
     "execution_count": 3,
     "metadata": {},
     "output_type": "execute_result"
    }
   ],
   "source": [
    "1j"
   ]
  },
  {
   "cell_type": "markdown",
   "metadata": {},
   "source": [
    "Pythonでは実数と虚数を足す際にも+記号を用いることができる。<br>\n",
    "先に登場した$(x-1)^2=-9$の解はPythonでも`1+3j`と書く。"
   ]
  },
  {
   "cell_type": "code",
   "execution_count": 4,
   "metadata": {},
   "outputs": [
    {
     "data": {
      "text/plain": [
       "(1+3j)"
      ]
     },
     "execution_count": 4,
     "metadata": {},
     "output_type": "execute_result"
    }
   ],
   "source": [
    "1+3j"
   ]
  },
  {
   "cell_type": "markdown",
   "metadata": {},
   "source": [
    "他にも+に限らず種々の二項演算子`+`, `-`, `*`, `/`, `**`は複素数に対しても使用できる。<br>\n",
    "２つの複素数を足し合わせる際は、実部と虚部がそれぞれたされることになる。"
   ]
  },
  {
   "cell_type": "code",
   "execution_count": 5,
   "metadata": {},
   "outputs": [
    {
     "data": {
      "text/plain": [
       "(11+23j)"
      ]
     },
     "execution_count": 5,
     "metadata": {},
     "output_type": "execute_result"
    }
   ],
   "source": [
    "(1+3j)+(10+20j)"
   ]
  },
  {
   "cell_type": "code",
   "execution_count": 6,
   "metadata": {},
   "outputs": [
    {
     "data": {
      "text/plain": [
       "(-9+0j)"
      ]
     },
     "execution_count": 6,
     "metadata": {},
     "output_type": "execute_result"
    }
   ],
   "source": [
    "x = 1+3j\n",
    "(x-1)**2"
   ]
  },
  {
   "cell_type": "markdown",
   "metadata": {},
   "source": [
    "複素数の実部や虚部を得るには、以下のようなドット記法を用いる。<br>\n",
    "複素数はクラスであるため、オブジェクト指向プログラミング言語における、インスタンス変数にアクセスする際と同じ書き方をする。"
   ]
  },
  {
   "cell_type": "code",
   "execution_count": 7,
   "metadata": {},
   "outputs": [
    {
     "data": {
      "text/plain": [
       "1.0"
      ]
     },
     "execution_count": 7,
     "metadata": {},
     "output_type": "execute_result"
    }
   ],
   "source": [
    "x.real"
   ]
  },
  {
   "cell_type": "code",
   "execution_count": 8,
   "metadata": {},
   "outputs": [
    {
     "data": {
      "text/plain": [
       "3.0"
      ]
     },
     "execution_count": 8,
     "metadata": {},
     "output_type": "execute_result"
    }
   ],
   "source": [
    "x.imag"
   ]
  },
  {
   "cell_type": "markdown",
   "metadata": {},
   "source": [
    "## 1.3 体への抽象化\n",
    "プログラミング言語の用語で、異なるデータ型の値を操作する複数のプロージャーに同じ名前(例えば+)を用いることを<br>\n",
    "**オーバーロード**($overloading$)という。これがなぜ便利なのか複素数を例にして示す。<br>\n",
    "0でない数$a$と、任意の数$b$、$c$に対する方程式$ax+b=c$を解くプロージャー`solve1(a, b, c)`を定義してみる。"
   ]
  },
  {
   "cell_type": "code",
   "execution_count": 9,
   "metadata": {},
   "outputs": [],
   "source": [
    "def solve1(a, b, c): return (c-b)/a"
   ]
  },
  {
   "cell_type": "code",
   "execution_count": 10,
   "metadata": {},
   "outputs": [
    {
     "data": {
      "text/plain": [
       "2.5"
      ]
     },
     "execution_count": 10,
     "metadata": {},
     "output_type": "execute_result"
    }
   ],
   "source": [
    "solve1(10,5,30)"
   ]
  },
  {
   "cell_type": "code",
   "execution_count": 11,
   "metadata": {},
   "outputs": [
    {
     "data": {
      "text/plain": [
       "(1.2-0.6j)"
      ]
     },
     "execution_count": 11,
     "metadata": {},
     "output_type": "execute_result"
    }
   ],
   "source": [
    "solve1(10+5j, 5, 20)"
   ]
  },
  {
   "cell_type": "markdown",
   "metadata": {},
   "source": [
    "上記のようにプロージャーは複素数に対しても機能する。<br>\n",
    "## 1.4 と遊ぼう\n",
    "前述の通り、複素数zは2つの実数`z.real`と`z.imag`から構成されているので、<br>\n",
    "それを**複素数平面**($complex~plane$)と呼ばれる平面上の位置を示す点とみなすのが伝統的である。<br>"
   ]
  },
  {
   "cell_type": "code",
   "execution_count": 15,
   "metadata": {},
   "outputs": [
    {
     "name": "stdout",
     "output_type": "stream",
     "text": [
      "complex_num :  [(1.75+1j), (2+1j), (2.25+1j), (2.5+1j), (2.75+1j), (3+1j), (2+2j), (3+2j)]\n"
     ]
    },
    {
     "ename": "ValueError",
     "evalue": "Illegal argument(s) to subplot: ([1.75, 2.0, 2.25, 2.5, 2.75, 3.0, 2.0, 3.0], [1.0, 1.0, 1.0, 1.0, 1.0, 1.0, 2.0, 2.0])",
     "output_type": "error",
     "traceback": [
      "\u001b[0;31m---------------------------------------------------------------------------\u001b[0m",
      "\u001b[0;31mValueError\u001b[0m                                Traceback (most recent call last)",
      "\u001b[0;32m<ipython-input-15-3eccffc64d82>\u001b[0m in \u001b[0;36m<module>\u001b[0;34m\u001b[0m\n\u001b[1;32m      7\u001b[0m \u001b[0mprint\u001b[0m\u001b[0;34m(\u001b[0m\u001b[0;34m\"complex_num : \"\u001b[0m\u001b[0;34m,\u001b[0m \u001b[0mcomplex_num\u001b[0m\u001b[0;34m)\u001b[0m\u001b[0;34m\u001b[0m\u001b[0;34m\u001b[0m\u001b[0m\n\u001b[1;32m      8\u001b[0m \u001b[0;34m\u001b[0m\u001b[0m\n\u001b[0;32m----> 9\u001b[0;31m \u001b[0mplt\u001b[0m\u001b[0;34m.\u001b[0m\u001b[0msubplot\u001b[0m\u001b[0;34m(\u001b[0m\u001b[0;34m[\u001b[0m\u001b[0mi\u001b[0m\u001b[0;34m.\u001b[0m\u001b[0mreal\u001b[0m \u001b[0;32mfor\u001b[0m \u001b[0mi\u001b[0m \u001b[0;32min\u001b[0m \u001b[0mcomplex_num\u001b[0m\u001b[0;34m]\u001b[0m\u001b[0;34m,\u001b[0m \u001b[0;34m[\u001b[0m\u001b[0mi\u001b[0m\u001b[0;34m.\u001b[0m\u001b[0mimag\u001b[0m \u001b[0;32mfor\u001b[0m \u001b[0mi\u001b[0m \u001b[0;32min\u001b[0m \u001b[0mcomplex_num\u001b[0m\u001b[0;34m]\u001b[0m\u001b[0;34m)\u001b[0m\u001b[0;34m\u001b[0m\u001b[0;34m\u001b[0m\u001b[0m\n\u001b[0m",
      "\u001b[0;32m/opt/conda/lib/python3.7/site-packages/matplotlib/pyplot.py\u001b[0m in \u001b[0;36msubplot\u001b[0;34m(*args, **kwargs)\u001b[0m\n\u001b[1;32m   1074\u001b[0m \u001b[0;34m\u001b[0m\u001b[0m\n\u001b[1;32m   1075\u001b[0m     \u001b[0mfig\u001b[0m \u001b[0;34m=\u001b[0m \u001b[0mgcf\u001b[0m\u001b[0;34m(\u001b[0m\u001b[0;34m)\u001b[0m\u001b[0;34m\u001b[0m\u001b[0;34m\u001b[0m\u001b[0m\n\u001b[0;32m-> 1076\u001b[0;31m     \u001b[0ma\u001b[0m \u001b[0;34m=\u001b[0m \u001b[0mfig\u001b[0m\u001b[0;34m.\u001b[0m\u001b[0madd_subplot\u001b[0m\u001b[0;34m(\u001b[0m\u001b[0;34m*\u001b[0m\u001b[0margs\u001b[0m\u001b[0;34m,\u001b[0m \u001b[0;34m**\u001b[0m\u001b[0mkwargs\u001b[0m\u001b[0;34m)\u001b[0m\u001b[0;34m\u001b[0m\u001b[0;34m\u001b[0m\u001b[0m\n\u001b[0m\u001b[1;32m   1077\u001b[0m     \u001b[0mbbox\u001b[0m \u001b[0;34m=\u001b[0m \u001b[0ma\u001b[0m\u001b[0;34m.\u001b[0m\u001b[0mbbox\u001b[0m\u001b[0;34m\u001b[0m\u001b[0;34m\u001b[0m\u001b[0m\n\u001b[1;32m   1078\u001b[0m     \u001b[0mbyebye\u001b[0m \u001b[0;34m=\u001b[0m \u001b[0;34m[\u001b[0m\u001b[0;34m]\u001b[0m\u001b[0;34m\u001b[0m\u001b[0;34m\u001b[0m\u001b[0m\n",
      "\u001b[0;32m/opt/conda/lib/python3.7/site-packages/matplotlib/figure.py\u001b[0m in \u001b[0;36madd_subplot\u001b[0;34m(self, *args, **kwargs)\u001b[0m\n\u001b[1;32m   1412\u001b[0m                     \u001b[0mself\u001b[0m\u001b[0;34m.\u001b[0m\u001b[0m_axstack\u001b[0m\u001b[0;34m.\u001b[0m\u001b[0mremove\u001b[0m\u001b[0;34m(\u001b[0m\u001b[0max\u001b[0m\u001b[0;34m)\u001b[0m\u001b[0;34m\u001b[0m\u001b[0;34m\u001b[0m\u001b[0m\n\u001b[1;32m   1413\u001b[0m \u001b[0;34m\u001b[0m\u001b[0m\n\u001b[0;32m-> 1414\u001b[0;31m             \u001b[0ma\u001b[0m \u001b[0;34m=\u001b[0m \u001b[0msubplot_class_factory\u001b[0m\u001b[0;34m(\u001b[0m\u001b[0mprojection_class\u001b[0m\u001b[0;34m)\u001b[0m\u001b[0;34m(\u001b[0m\u001b[0mself\u001b[0m\u001b[0;34m,\u001b[0m \u001b[0;34m*\u001b[0m\u001b[0margs\u001b[0m\u001b[0;34m,\u001b[0m \u001b[0;34m**\u001b[0m\u001b[0mkwargs\u001b[0m\u001b[0;34m)\u001b[0m\u001b[0;34m\u001b[0m\u001b[0;34m\u001b[0m\u001b[0m\n\u001b[0m\u001b[1;32m   1415\u001b[0m \u001b[0;34m\u001b[0m\u001b[0m\n\u001b[1;32m   1416\u001b[0m         \u001b[0;32mreturn\u001b[0m \u001b[0mself\u001b[0m\u001b[0;34m.\u001b[0m\u001b[0m_add_axes_internal\u001b[0m\u001b[0;34m(\u001b[0m\u001b[0mkey\u001b[0m\u001b[0;34m,\u001b[0m \u001b[0ma\u001b[0m\u001b[0;34m)\u001b[0m\u001b[0;34m\u001b[0m\u001b[0;34m\u001b[0m\u001b[0m\n",
      "\u001b[0;32m/opt/conda/lib/python3.7/site-packages/matplotlib/axes/_subplots.py\u001b[0m in \u001b[0;36m__init__\u001b[0;34m(self, fig, *args, **kwargs)\u001b[0m\n\u001b[1;32m     62\u001b[0m                 \u001b[0;31m# num - 1 for converting from MATLAB to python indexing\u001b[0m\u001b[0;34m\u001b[0m\u001b[0;34m\u001b[0m\u001b[0;34m\u001b[0m\u001b[0m\n\u001b[1;32m     63\u001b[0m         \u001b[0;32melse\u001b[0m\u001b[0;34m:\u001b[0m\u001b[0;34m\u001b[0m\u001b[0;34m\u001b[0m\u001b[0m\n\u001b[0;32m---> 64\u001b[0;31m             \u001b[0;32mraise\u001b[0m \u001b[0mValueError\u001b[0m\u001b[0;34m(\u001b[0m\u001b[0;34mf'Illegal argument(s) to subplot: {args}'\u001b[0m\u001b[0;34m)\u001b[0m\u001b[0;34m\u001b[0m\u001b[0;34m\u001b[0m\u001b[0m\n\u001b[0m\u001b[1;32m     65\u001b[0m \u001b[0;34m\u001b[0m\u001b[0m\n\u001b[1;32m     66\u001b[0m         \u001b[0mself\u001b[0m\u001b[0;34m.\u001b[0m\u001b[0mupdate_params\u001b[0m\u001b[0;34m(\u001b[0m\u001b[0;34m)\u001b[0m\u001b[0;34m\u001b[0m\u001b[0;34m\u001b[0m\u001b[0m\n",
      "\u001b[0;31mValueError\u001b[0m: Illegal argument(s) to subplot: ([1.75, 2.0, 2.25, 2.5, 2.75, 3.0, 2.0, 3.0], [1.0, 1.0, 1.0, 1.0, 1.0, 1.0, 2.0, 2.0])"
     ]
    },
    {
     "data": {
      "text/plain": [
       "<Figure size 432x288 with 0 Axes>"
      ]
     },
     "metadata": {},
     "output_type": "display_data"
    }
   ],
   "source": [
    "import matplotlib.pyplot as plt\n",
    "\n",
    "real = [1.75+i*0.25 for i in range(6)] + [2, 3]\n",
    "imag = [1j for i in range(6)] + [2j, 2j]\n",
    "\n",
    "complex_num = [real[i] + imag[i] for i in range(8)]\n",
    "print(\"complex_num : \", complex_num)\n",
    "\n",
    "plt.subplot([i.real for i in complex_num], [i.imag for i in complex_num])"
   ]
  },
  {
   "cell_type": "markdown",
   "metadata": {},
   "source": [
    "## 1.4.1 複素数の絶対値\n",
    "複素数$z$の絶対値($absolute~value$)とは、複素数平面上の原点から対応する点まで距離を示す値で、$|z|$で表される。<br>\n",
    "Pythonではこれを`abs(z)`と書く。\n",
    "三平方の定理から$|z|^2 = (z.real)^2 + (z.imag)^2$である。"
   ]
  },
  {
   "cell_type": "code",
   "execution_count": 35,
   "metadata": {},
   "outputs": [
    {
     "data": {
      "text/plain": [
       "5.0"
      ]
     },
     "execution_count": 35,
     "metadata": {},
     "output_type": "execute_result"
    }
   ],
   "source": [
    "abs(3+4j)"
   ]
  },
  {
   "cell_type": "code",
   "execution_count": 36,
   "metadata": {},
   "outputs": [
    {
     "data": {
      "text/plain": [
       "1.4142135623730951"
      ]
     },
     "execution_count": 36,
     "metadata": {},
     "output_type": "execute_result"
    }
   ],
   "source": [
    "abs(1+1j)"
   ]
  },
  {
   "cell_type": "markdown",
   "metadata": {},
   "source": [
    "**定義 1.4.2 :** 複素数の複素共役($conjugate$)は$z.real - z.imag~i$で定義され、$\\bar{z}$と書かれる。<br>\n",
    "Pythonではこれを`z.conjugate()`と書く。"
   ]
  },
  {
   "cell_type": "code",
   "execution_count": 37,
   "metadata": {},
   "outputs": [
    {
     "data": {
      "text/plain": [
       "(3-4j)"
      ]
     },
     "execution_count": 37,
     "metadata": {},
     "output_type": "execute_result"
    }
   ],
   "source": [
    "(3+4j).conjugate()"
   ]
  },
  {
   "cell_type": "markdown",
   "metadata": {},
   "source": [
    "$i^2=-1$であることを用いれば、$|z|^2$、$z$、$\\bar{z}$の間に成立する次の関係式が得られる。<br>\n",
    "<br>\n",
    "$$\n",
    "|z|^2=z \\cdot \\bar{z}\n",
    "$$\n",
    "<br>\n",
    "$$\n",
    "z \\cdot \\bar{z} = (z.real + z.imag )\n",
    "$$\n",
    "\n",
    "### 1.4.2 複素数を足すこと\n",
    "上で定義された$S$の各要素に$1+2i$を足すことを考えてみる。<br>\n",
    "この結果は$S$の各要素に次の関数を適用させることで得られる。<br>\n",
    "<br>\n",
    "$$\n",
    "f(z) = 1+2i+z\n",
    "$$\n",
    "<br>\n",
    "この関数は、それぞれの点の実座標($x$座標)を1増やし、虚座標($y$座標)を2増やす。<br>\n",
    "これにより右に１目盛、上に２目盛移動させる。$S$の要素に対するこの変換を**平行移動**($ranslation$)という。<br>\n",
    "平行移動する関数は次のような形をしている。<br>\n",
    "$$\n",
    "f(z) = z_0 +z \n",
    "$$\n",
    "ここでz_0は適当な複素数である。平行移動は図を複素数平面上の好きな場所へと移動させることができる。<br>\n",
    "例えば実部で負であるような$z_0$を用いれば、図は左側に移動する。<br>\n",
    "<br>\n",
    "**課題1.4.3 :**　内包表記を使用して$S$の各要素に$1+2i$を足し、新たな図を書け。"
   ]
  },
  {
   "cell_type": "code",
   "execution_count": null,
   "metadata": {},
   "outputs": [],
   "source": [
    "plot({1+2j+z for z in S}, 4)"
   ]
  },
  {
   "cell_type": "markdown",
   "metadata": {},
   "source": [
    "**クイズ 1.4.4 :** 複素数の集合$S$の「左目」は$2+2j$に位置している。平行移動$f(z)=z_0+z$を用いてこの「左目」を原点に移動させるためには、$z_0$どのような値に設定すればよいか？\n",
    "\n",
    "A. $z_0 = -2-2i$\n",
    "\n",
    "**問題 1.4.5 :** 任意の異なる２点$z_1$、$z_2$に対し、以下を示せ。\n",
    "* $z_1$を$z_2$に移す平行移動が存在する。\n",
    "* $z_2$を$z_1$に移す平行移動が存在する。\n",
    "* $z_1$を$z_2$に移し、同時に$z_2$を$z_1$に移す平行移動は存在しない。\n",
    "\n",
    "**矢印としての複素数**　平行移動$f(z)$を矢印として表すと便利である。矢印の視点は複素平面上の任意の点$z$に位置し、矢印の終点は平行移動した点$f(z)$に位置している。もちろんこの表現は一意的ではない。平行移動は$f(z) = z_0 + z$という形をしているので、この平行移動は複素数$z_0$で表される。したがって、複素数$z_0$がこの矢印に対応していると考えるのは妥当なことである。"
   ]
  },
  {
   "cell_type": "markdown",
   "metadata": {},
   "source": [
    "繰り返しになるが、この表現は一意的ではない。例えば、\n",
    "$z_0= 5-2i$に対応するベクトルは$0+0i$を始点、$5-2i$を終点とする矢印で表現することができるが、他にも$1+1i$が始点、$6-1i$を終点でも構わない。<br>\n",
    "\n",
    "**問題1.4.6 :** 複素数$z_0 = -3 +3i$を表す図を書け。ただし２本の矢印を使用してそれぞれの始点は異なる点に位置すること。<br>\n",
    "<br>\n",
    "**平行移動の合成と矢印の足し算**　２つの平行移動$f_1(z) = z_1 +z$、$f_2(z)= z_2 +z$を考える。これらを合成したものもまた、$z \\rightarrow (z_2 + z_1) + z $という１つの平行移動となる。\n",
    "$$\n",
    "(f_2 \\circ f_1)(z) = f_2(f_1(z)) \\\\\n",
    " = f_2(z_1+z)\n",
    " = z_2 + z_1 +z\n",
    "$$\n",
    "このような２つの平行移動を合成して１つの平行移動とする考えを、平行移動を矢印で表して図示したものが図1-1である。"
   ]
  },
  {
   "cell_type": "code",
   "execution_count": null,
   "metadata": {},
   "outputs": [],
   "source": []
  },
  {
   "cell_type": "markdown",
   "metadata": {},
   "source": [
    "まず、$z_1$で示した矢印が、点(ここでは原点)を二番目の店へ並行移動させる。<br>\n",
    "同様に今度は$z_2$の矢印が２番目の点を３番目の点へ伸びる矢印は、これらの２つの平行移動の合成となる。<br>\n",
    "以上よりこの矢印がz_1 + z_2 となることがわかる。\n",
    "### 1.4.3 複素数に正の実数を掛けること\n",
    "$S$に含まれる全ての複素数を半分にすることを考える。<br>\n",
    "つまり$g(z)=\\frac{1}{2}z$という変換を考える。<br>\n",
    "この変換は、それぞれの複素数の実座標と虚座標を単に半分にする。<br>\n",
    "図では、それぞれの点は原点に近づき、点同時も互いに近づくことになる。<br>"
   ]
  },
  {
   "cell_type": "code",
   "execution_count": null,
   "metadata": {},
   "outputs": [],
   "source": []
  },
  {
   "cell_type": "markdown",
   "metadata": {},
   "source": [
    "こういった変換は**スケーリング**($scaling$)と呼ばれる。<br>\n",
    "すなわち、この座標変換により図のスケールが変わっているのである。<br>\n",
    "同様にそれぞれの複素数を２倍にすれば、点と原点との距離及び各点の間の距離が２倍に広がる。\n",
    "### 1.4.4 複素数に負の実数を掛けること：180度の回転\n",
    "$S$の全ての複素数に-1を掛けた結果を次に示す。"
   ]
  },
  {
   "cell_type": "code",
   "execution_count": null,
   "metadata": {},
   "outputs": [],
   "source": []
  },
  {
   "cell_type": "markdown",
   "metadata": {},
   "source": [
    "これらの点が、原点を中心とした回転によって得られたものと考えてみると、<br>\n",
    "この図形は元の図形を180度回転させた結果だと解釈することができる。<br>\n",
    "### 1.4.5 iを掛けること：90度の回転\n",
    "90度回転させるには、点$(x,y)$を点$(-y,x)$へと移動させなければならない。<br>\n",
    "点$(-y,x)$に対応する複素数は$x+iy$である。<br>\n",
    "<br>\n",
    "$$\n",
    "h(z)=i\\cdot z\n",
    "$$\n",
    "<br>\n",
    "上記の関数を$x+iy$に掛けると$ix + i-i^2y$、即ち$-y+ix$となる。<br>\n",
    "これは$(-y,x)$を表している。\n",
    "### 1.4.6 複素平面上の単位円：偏角と角度\n",
    "#### 単位円上の複素数の偏角\n",
    "中心を複素平面上の原点、半径を１とする単位円を考える。"
   ]
  },
  {
   "cell_type": "markdown",
   "metadata": {},
   "source": []
  },
  {
   "cell_type": "code",
   "execution_count": null,
   "metadata": {},
   "outputs": [],
   "source": []
  },
  {
   "cell_type": "markdown",
   "metadata": {},
   "source": [
    "円周上の点$z$は、最も右側の点である$1+0i$を始点として、<br>\n",
    "蟻が円周上を反時計周りに歩いたときの道のりで表現される。<br>\n",
    "この移動距離を$z$の**偏角**($argument$)という。\n",
    "\n",
    "**例 1.4.13 :**　円周の長さは$2\\pi$なので、半周分の偏角は$\\pi$、1/8周分の偏角は$\\pi/4$となる。\n",
    "#### 原点と単位円上の２つの複素数を結ぶ２つの線分を成す角\n",
    "単位円上の点を距離で表す方法について見ていこう。<br>\n",
    "次の図のように原点と円周上の異なる２点$z_1$、$z_2$とをそれぞれ結んだ際にできる線分を成す角をラジアンで考えると、<br>\n",
    "これは$z_2$から$z_1$へと蟻が歩いた道のりと同じである。"
   ]
  },
  {
   "cell_type": "code",
   "execution_count": null,
   "metadata": {},
   "outputs": [],
   "source": []
  },
  {
   "cell_type": "markdown",
   "metadata": {},
   "source": [
    "### 1.4.7 オイラーの公式\n",
    "$$\n",
    "e^{\\pi} + 1 = 0\n",
    "$$\n",
    "<br>\n",
    "**例 1.4.16 :** 点$-1+0i$は偏角$\\pi$を持つ。$\\pi$をオイラーの公式に代入すると、$e^{i \\pi}+１= 0$という驚くべき等式が生まれる。"
   ]
  },
  {
   "cell_type": "code",
   "execution_count": 8,
   "metadata": {},
   "outputs": [
    {
     "name": "stdout",
     "output_type": "stream",
     "text": [
      "(1+0j)\n",
      "(0.9510565162951535+0.3090169943749474j)\n",
      "(0.8090169943749473+0.587785252292473j)\n",
      "(0.5877852522924731+0.8090169943749472j)\n",
      "(0.30901699437494745+0.9510565162951533j)\n",
      "(1.1102230246251565e-16+0.9999999999999997j)\n",
      "(-0.3090169943749471+0.9510565162951532j)\n",
      "(-0.5877852522924727+0.8090169943749472j)\n",
      "(-0.8090169943749469+0.587785252292473j)\n",
      "(-0.951056516295153+0.30901699437494756j)\n",
      "(-0.9999999999999993+2.7755575615628914e-16j)\n",
      "(-0.9510565162951531-0.30901699437494695j)\n",
      "(-0.809016994374947-0.5877852522924725j)\n",
      "(-0.5877852522924729-0.8090169943749466j)\n",
      "(-0.30901699437494756-0.9510565162951525j)\n",
      "(-4.996003610813204e-16-0.9999999999999991j)\n",
      "(0.3090169943749467-0.9510565162951528j)\n",
      "(0.5877852522924721-0.8090169943749469j)\n",
      "(0.8090169943749462-0.5877852522924729j)\n",
      "(0.9510565162951523-0.30901699437494756j)\n"
     ]
    },
    {
     "name": "stderr",
     "output_type": "stream",
     "text": [
      "/opt/conda/lib/python3.7/site-packages/numpy/core/_asarray.py:85: ComplexWarning: Casting complex values to real discards the imaginary part\n",
      "  return array(a, dtype, copy=False, order=order)\n"
     ]
    },
    {
     "data": {
      "text/plain": [
       "[<matplotlib.lines.Line2D at 0x7fe92b630588>]"
      ]
     },
     "execution_count": 8,
     "metadata": {},
     "output_type": "execute_result"
    },
    {
     "data": {
      "image/png": "[encoded data removed]",
      "text/plain": [
       "<Figure size 432x288 with 1 Axes>"
      ]
     },
     "metadata": {
      "needs_background": "light"
     },
     "output_type": "display_data"
    }
   ],
   "source": [
    "import numpy as np\n",
    "import matplotlib.pyplot as plt\n",
    "\n",
    "n = 20\n",
    "w = np.e ** ((2* np.pi* 1j) /n)\n",
    "\n",
    "for i in [w**i for i in range(n)]: print(i)\n",
    "plt.plot([w**i for i in range(n)])"
   ]
  },
  {
   "cell_type": "markdown",
   "metadata": {},
   "source": [
    "### 1.4.8 複素数の極表示\n",
    "オイラーの公式は単位円上の複素数を表現する便利な方法を与えてくれる。<br>\n",
    "原点を端点とし、任意の複素数$z$までの半直線を引く。<br>\n",
    "このとき、半直線の一部分である原点と$z$をつなぐ線分を$L$とし、半直線と単位円との交点を$z'$とする。<br>\n",
    "\n",
    "線分$L$の長さがを$r$とすると、$z$を$1/r$だけスケーリングすれば$z'$にできる。<br>\n",
    "$$\n",
    "z' = \\frac{1}{r}z\n",
    "$$\n",
    "$z'$の偏角を$\\theta$とすれば、オイラーの公式より……\n",
    "$$\n",
    "z'=re^{\\theta i}\n",
    "$$\n",
    "ここでは$r$、$\\theta$が$z$の極座標を表すものである。<br>\n",
    "即ち複素数においては**$\\theta$は$z$の偏角、$r$はその絶対値$|z|$** と定義できる。\n",
    "### 1.4.9 指数の第1法則\n",
    "同じ底を持つ寡同士をかけ合わせると、結果はそれらと同じ底を持ち、その指数同士が足された寡となる。<br>\n",
    "<br>\n",
    "$$\n",
    "e^\\mu e^\\nu = e^{\\mu + \\nu}\n",
    "$$\n",
    "<br>\n",
    "この性質は複素数$z$を回転させる方法を理解させるのに役立つ。<br>\n",
    "$r=|z|$、$\\theta  =arg~z$とすると、$z$は次のようになる。<br>\n",
    "$$\n",
    "z=re^{\\theta i}\n",
    "$$\n",
    "### 1.4.10 $\\tau$ラジアンの回転\n",
    "ラジアンで表された適当な数を$\\tau$とおく。<br>\n",
    "$z$を$\\tau$だけ回転させた結果は、その絶対値を変えずに偏角を$\\tau$増やすので、$re^{(\\theta+\\tau)i}$と書ける。<br>\n",
    "<br>\n",
    "$$\n",
    "\\tau e^{(\\theta+\\tau)i} = re^{\\theta i}e^{\\tau i}\n",
    "= ze^{\\tau i}\n",
    "$$\n",
    "従って、複素数を$\\tau$ラジアン回転させる関数は、次のようになる。\n",
    "$$\n",
    "f(z)=ze^{\\tau i}\n",
    "$$ "
   ]
  },
  {
   "cell_type": "markdown",
   "metadata": {},
   "source": [
    "複素数の集合は体を成すので、合成則$a \\cdot (b \\cdot z) = (a \\cdot b)\\cdot z$などの既知の代数規則を使用することができる。<br>\n",
    "この代数規則を用いると、２回のスケーリングを一回のスケーリングに合成することが可能になる。<br>\n",
    "(例 : スケールを２倍から３倍することは、はじめから６倍することと同じ)<br>\n",
    "<br>\n",
    "回転することに対しても同様に、２回の回転を１回の回転に合成することができる。<br>\n",
    "(例 : $\\pi/4$回転($e^{(\\pi /4)i}$)から$\\pi/3$回転($e^{(\\pi/3)i}$)させることは、はじめから$7\\pi/12$回転することと同じ)<br>\n",
    "<br>\n",
    "更に、回転とスケーリングは積に対して両立するので、これらを合成することも可能である。<br>\n",
    "(例 : $\\pi /4$回転から半分にスケーリングさせることは、はじめから$1/2\\cdot e^{(\\pi /4)i}$を掛けることと同じ)\n",
    "\n",
    "### 1.4.12 2次元を超えて\n",
    "複素数は、画像(より一般的には平面上の点の集合)を座標変換する際にとても便利である。<br>\n",
    "そこで３次元上の点の座標変換についても同様の手法があるのでは……と思う人は次章で。\n",
    "## 1.5 $GF(2)$で遊ぼう\n",
    "$GF(2)$とは**二元ガロア体**($Galoa~Field$)の略である。<br>\n",
    "ガロアは1811年生まれの数学者で、10代の時に抽象代数の分野の基礎を築いた。<br>\n",
    "体$GF(2)$の要素は0と1だけであり、$GF(2)$上の算術は次の2つの小さな表にまとめることができる。<br>\n",
    "\n",
    "|$\\times$|0|1|\n",
    "|--|--|--|\n",
    "|0|0|0|\n",
    "|1|0|1|\n",
    "\n",
    "|$+$|0|1|\n",
    "|-|-|-|\n",
    "|0|0|1|\n",
    "|1|1|0|\n",
    "\n",
    "加法には2の余剰が適用される。この結果は排他的論理和と同義である。特に$1+1=0$である。<br>\n",
    "減法は加法と同様であり、-1は1そのもの、-0もまた0そのものである。<br>\n",
    "$GF(2)$における乗法はちょうど通常の0,1を用いた積と同じになっている。<br>\n",
    "0を掛けると0となり、1掛ける1は1である。<br>\n",
    "1で割っても値が変わらない点と、0で割ることができない点も同様である。<br>\n",
    "\n",
    "###  1.5.1 完全秘匿な暗号システム、再訪\n",
    "0章では完全秘匿な暗号システムについて扱った。<br>\n",
    "アリスとボブは${A,B}$から鍵kを無作為に選ぶ。その後、アリスは元の暗号化関数を用いて、平文のビット$p$を暗号文のビット$c$に変換する。<br>\n",
    " \n",
    "|p|k|c|\n",
    "|-|-|-|\n",
    "|0|A|0|\n",
    "|0|B|1|\n",
    "|1|A|1|\n",
    "|1|B|0|\n",
    "\n",
    "この暗号はGF(2)における加法に過ぎない。<br>\n",
    "$A$を0、$B$を1として扱えばこの暗号は$GF(2)$上の加法を表す表となる。<br>\n",
    "<br>\n",
    "$GF(2)$内の平文$p$に対し、$GF(2)$から$GF(2)$へ写像する関数$k \\rightarrow k+p$は、逆関数を持つ(つまり単射且つ全射である)。<br>\n",
    "よって、鍵$k$が一様分布に従って無作為に選ばれると、暗号文の分布も一様分布になる。<br>\n",
    "これが完全秘匿性を実現するメカニズムである。\n",
    "#### $GF(2)$の代わりに整数を用いる\n",
    "$Z$内の整数の$x$に対しても、\n",
    "\n",
    "#### 長い文章の暗号化\n",
    "長い文章にはどのように暗号化すればいいのだろうか？長文はビット列で表現が可能である。<br>\n",
    "ここでは$n$個のビットからなる文章を暗号化することを考える。<br>\n",
    "暗号使用者はそれぞれ同じように鍵の長いビット列$k_1, k_2,\\dots k_n$を選ばなくてはならない。<br>\n",
    "アリスが平文$p_1,p_2,\\dots,p_n$を選択したら、暗号文$c_1, c_2, \\dots ,c_n$は次の式で得られる。\n",
    "<br><br>\n",
    "$$ \n",
    "c_1 = k_1 + p_1 \\\\\n",
    "c_1 = k_1 + p_1 \\\\\n",
    "\\vdots \\\\\n",
    "c_1 = k_1 + p_1\n",
    "$$\n"
   ]
  },
  {
   "cell_type": "code",
   "execution_count": null,
   "metadata": {},
   "outputs": [],
   "source": []
  },
  {
   "cell_type": "code",
   "execution_count": null,
   "metadata": {},
   "outputs": [],
   "source": []
  },
  {
   "cell_type": "code",
   "execution_count": null,
   "metadata": {},
   "outputs": [],
   "source": []
  },
  {
   "cell_type": "code",
   "execution_count": null,
   "metadata": {},
   "outputs": [],
   "source": []
  }
 ],
 "metadata": {
  "kernelspec": {
   "display_name": "Python 3",
   "language": "python",
   "name": "python3"
  },
  "language_info": {
   "codemirror_mode": {
    "name": "ipython",
    "version": 3
   },
   "file_extension": ".py",
   "mimetype": "text/x-python",
   "name": "python",
   "nbconvert_exporter": "python",
   "pygments_lexer": "ipython3",
   "version": "3.7.3"
  }
 },
 "nbformat": 4,
 "nbformat_minor": 2
}
