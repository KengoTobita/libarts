{
 "cells": [
  {
   "cell_type": "markdown",
   "metadata": {},
   "source": [
    "# 1.デッキを作ろう\n",
    "飛田は最近テキサスホールデムポーカーにハマりました。<br>\n",
    "Pythonでポーカーについての研究をしたいと考えているので、トランプのデータが必要です。<br>\n",
    "そこで今回は皆さんの力を借りて、トランプを模したデータを作成していただきます。<br>\n",
    "## 今回作成してほしいデータ\n",
    "下記のセルにあるcsvファイルが完成品です。<br>\n",
    "二次元データの作成が目標です。"
   ]
  },
  {
   "cell_type": "code",
   "execution_count": 51,
   "metadata": {},
   "outputs": [
    {
     "data": {
      "text/html": [
       "<div>\n",
       "<style scoped>\n",
       "    .dataframe tbody tr th:only-of-type {\n",
       "        vertical-align: middle;\n",
       "    }\n",
       "\n",
       "    .dataframe tbody tr th {\n",
       "        vertical-align: top;\n",
       "    }\n",
       "\n",
       "    .dataframe thead th {\n",
       "        text-align: right;\n",
       "    }\n",
       "</style>\n",
       "<table border=\"1\" class=\"dataframe\">\n",
       "  <thead>\n",
       "    <tr style=\"text-align: right;\">\n",
       "      <th></th>\n",
       "      <th>suits</th>\n",
       "      <th>number</th>\n",
       "    </tr>\n",
       "  </thead>\n",
       "  <tbody>\n",
       "    <tr>\n",
       "      <td>0</td>\n",
       "      <td>S</td>\n",
       "      <td>1</td>\n",
       "    </tr>\n",
       "    <tr>\n",
       "      <td>1</td>\n",
       "      <td>S</td>\n",
       "      <td>2</td>\n",
       "    </tr>\n",
       "    <tr>\n",
       "      <td>2</td>\n",
       "      <td>S</td>\n",
       "      <td>3</td>\n",
       "    </tr>\n",
       "    <tr>\n",
       "      <td>3</td>\n",
       "      <td>S</td>\n",
       "      <td>4</td>\n",
       "    </tr>\n",
       "    <tr>\n",
       "      <td>4</td>\n",
       "      <td>S</td>\n",
       "      <td>5</td>\n",
       "    </tr>\n",
       "  </tbody>\n",
       "</table>\n",
       "</div>"
      ],
      "text/plain": [
       "  suits  number\n",
       "0     S       1\n",
       "1     S       2\n",
       "2     S       3\n",
       "3     S       4\n",
       "4     S       5"
      ]
     },
     "execution_count": 51,
     "metadata": {},
     "output_type": "execute_result"
    }
   ],
   "source": [
    "import pandas as pd\n",
    "df = pd.read_csv(\"deck.csv\")\n",
    "df.head()"
   ]
  },
  {
   "cell_type": "markdown",
   "metadata": {},
   "source": [
    "## Q1.1トランプのスートをまとめたリストを作成しよう。\n",
    "トランプのスートをまとめたリストを**suits**という変数に格納してください。<br>\n",
    "トランプのスートはSpades,Hearts,Diamonds,Clubsの４つです。"
   ]
  },
  {
   "cell_type": "code",
   "execution_count": null,
   "metadata": {},
   "outputs": [],
   "source": []
  },
  {
   "cell_type": "markdown",
   "metadata": {},
   "source": [
    "## Q2.トランプで使用する数字のリストをfor文で作成しよう。\n",
    "トランプで使用する数字をまとめたリストを**number**という変数に格納しましょう。<br>\n",
    "トランプで使用する数字は、2〜10の数字、Ace,Jack,Qeen,Kingの絵札からなりますが、<br>\n",
    "今回は面倒なので1〜13の数字のリストを作成します。<br>\n",
    "少し面倒ですがfor文を使用して作成してみましょう。"
   ]
  },
  {
   "cell_type": "code",
   "execution_count": 54,
   "metadata": {},
   "outputs": [
    {
     "data": {
      "text/plain": [
       "[1, 2, 3, 4, 5, 6, 7, 8, 9, 10, 11, 12, 13]"
      ]
     },
     "execution_count": 54,
     "metadata": {},
     "output_type": "execute_result"
    }
   ],
   "source": []
  },
  {
   "cell_type": "markdown",
   "metadata": {},
   "source": [
    "## Q1.3 リスト内包表記を使用して作成しよう。\n",
    "少しPythonに慣れている方は、発展的な問題に挑戦してみましょう。<br>\n",
    "Pythonにはリスト内包表記という便利な機能があります。<br>\n",
    "これを使用することで、短くわかりやすいコードで簡単にリスト型データを作成することができます。"
   ]
  },
  {
   "cell_type": "code",
   "execution_count": 1,
   "metadata": {},
   "outputs": [
    {
     "data": {
      "text/plain": [
       "[1, 2, 3, 4, 5, 6, 7, 8, 9, 10, 11, 12, 13]"
      ]
     },
     "execution_count": 1,
     "metadata": {},
     "output_type": "execute_result"
    }
   ],
   "source": []
  },
  {
   "cell_type": "markdown",
   "metadata": {},
   "source": [
    "## Q1.4 簡単に2次元データを作成しよう。\n",
    "リスト型データの中にリスト型データを入れ、二次元データを作成することが可能です。"
   ]
  },
  {
   "cell_type": "code",
   "execution_count": 109,
   "metadata": {},
   "outputs": [
    {
     "data": {
      "text/plain": [
       "[['Spades', 1],\n",
       " ['Spades', 2],\n",
       " ['Spades', 3],\n",
       " ['Spades', 4],\n",
       " ['Spades', 5],\n",
       " ['Spades', 6],\n",
       " ['Spades', 7],\n",
       " ['Spades', 8],\n",
       " ['Spades', 9],\n",
       " ['Spades', 10],\n",
       " ['Spades', 11],\n",
       " ['Spades', 12],\n",
       " ['Spades', 13],\n",
       " ['Hearts', 1],\n",
       " ['Hearts', 2],\n",
       " ['Hearts', 3],\n",
       " ['Hearts', 4],\n",
       " ['Hearts', 5],\n",
       " ['Hearts', 6],\n",
       " ['Hearts', 7],\n",
       " ['Hearts', 8],\n",
       " ['Hearts', 9],\n",
       " ['Hearts', 10],\n",
       " ['Hearts', 11],\n",
       " ['Hearts', 12],\n",
       " ['Hearts', 13],\n",
       " ['Diamonds', 1],\n",
       " ['Diamonds', 2],\n",
       " ['Diamonds', 3],\n",
       " ['Diamonds', 4],\n",
       " ['Diamonds', 5],\n",
       " ['Diamonds', 6],\n",
       " ['Diamonds', 7],\n",
       " ['Diamonds', 8],\n",
       " ['Diamonds', 9],\n",
       " ['Diamonds', 10],\n",
       " ['Diamonds', 11],\n",
       " ['Diamonds', 12],\n",
       " ['Diamonds', 13],\n",
       " ['Clubs', 1],\n",
       " ['Clubs', 2],\n",
       " ['Clubs', 3],\n",
       " ['Clubs', 4],\n",
       " ['Clubs', 5],\n",
       " ['Clubs', 6],\n",
       " ['Clubs', 7],\n",
       " ['Clubs', 8],\n",
       " ['Clubs', 9],\n",
       " ['Clubs', 10],\n",
       " ['Clubs', 11],\n",
       " ['Clubs', 12],\n",
       " ['Clubs', 13]]"
      ]
     },
     "execution_count": 109,
     "metadata": {},
     "output_type": "execute_result"
    }
   ],
   "source": []
  },
  {
   "cell_type": "markdown",
   "metadata": {},
   "source": [
    "リスト内包表記で作成してみましょう"
   ]
  },
  {
   "cell_type": "code",
   "execution_count": 110,
   "metadata": {},
   "outputs": [],
   "source": []
  },
  {
   "cell_type": "markdown",
   "metadata": {},
   "source": [
    "## Q1.5 リスト型のデータから必要なものを取り出そう\n",
    "リスト型のデータから指定したものを取り出してみましょう\n",
    "1. 2番目のデータ\n",
    "1. 3番目までのデータ\n",
    "1. 2番目から6番目までのデータ"
   ]
  },
  {
   "cell_type": "code",
   "execution_count": 2,
   "metadata": {},
   "outputs": [],
   "source": [
    "q15 = [i for i in range(15)]\n",
    "\n",
    "answer1\n"
   ]
  },
  {
   "cell_type": "markdown",
   "metadata": {},
   "source": [
    "## Q1.5 指定した一枚を取ってみましょう\n",
    "作成したデータから指定した一枚を取り出してみましょう。<br>\n",
    "とりあえずdeckの上から10枚目のカードを取り出してみましょう。<br>"
   ]
  },
  {
   "cell_type": "markdown",
   "metadata": {},
   "source": [
    "ここは割愛"
   ]
  },
  {
   "cell_type": "code",
   "execution_count": 111,
   "metadata": {},
   "outputs": [],
   "source": [
    "import pandas as pd\n",
    "df = pd.DataFrame(deck, columns=[\"suits\", \"number\"])\n",
    "df.to_csv(\"deck.csv\", index=False)"
   ]
  },
  {
   "cell_type": "code",
   "execution_count": 112,
   "metadata": {},
   "outputs": [
    {
     "name": "stdout",
     "output_type": "stream",
     "text": [
      "deck.csv  Untitled.ipynb  work\r\n"
     ]
    }
   ],
   "source": [
    "!ls"
   ]
  },
  {
   "cell_type": "markdown",
   "metadata": {},
   "source": [
    "***\n",
    "# ブラックジャックをしよう\n",
    "ブラックジャックをご存知でしょうか？<br>\n",
    "トランプを使用したゲームの1つで、複数枚のカードの数字の合計が21になるように目指すゲームです。<br>\n",
    "先程作成した、トランプを模した二次元データdeckを使用してやってみましょう。"
   ]
  },
  {
   "cell_type": "markdown",
   "metadata": {},
   "source": [
    "## Q2.1 deckを確認しよう\n",
    "先程作成したdeckを確認してください。<br>\n",
    "なんやかんやしていると、どっか行くので作り直してください。<br>\n",
    "<br>\n",
    "あとで引数の確認が面倒なのでcolummsが\\[suits, number\\]になっている事を確認してください。"
   ]
  },
  {
   "cell_type": "markdown",
   "metadata": {},
   "source": [
    "## Q2.2 randomライブラリを使用してみよう\n",
    "初めてのPythonライブラリを使用してみましょう。<br>\n",
    "今回はdeckの中からランダムにカードを引くために、randomライブラリを使用してみましょう。<br>\n",
    "https://note.nkmk.me/python-random-choice-sample-choices/"
   ]
  },
  {
   "cell_type": "code",
   "execution_count": 209,
   "metadata": {},
   "outputs": [
    {
     "data": {
      "text/plain": [
       "['Hearts', 5]"
      ]
     },
     "execution_count": 209,
     "metadata": {},
     "output_type": "execute_result"
    }
   ],
   "source": []
  },
  {
   "cell_type": "markdown",
   "metadata": {},
   "source": [
    "## Q2.3 関数を使用してカードをランダムに一枚引く関数を作成しよう\n",
    "deckからランダムにカードを一枚引く関数を作成してください。<Br>"
   ]
  },
  {
   "cell_type": "code",
   "execution_count": 210,
   "metadata": {
    "scrolled": true
   },
   "outputs": [],
   "source": []
  },
  {
   "cell_type": "code",
   "execution_count": 211,
   "metadata": {},
   "outputs": [
    {
     "data": {
      "text/plain": [
       "[['Clubs', 5]]"
      ]
     },
     "execution_count": 211,
     "metadata": {},
     "output_type": "execute_result"
    }
   ],
   "source": [
    "draw()"
   ]
  },
  {
   "cell_type": "markdown",
   "metadata": {},
   "source": [
    "## Q2.4 関数に引数を追加してドロー枚数を指定しよう\n",
    "現状の関数では一枚づつしか引けません。<br>\n",
    "ここで引数を使用してドローする枚数を指定してみましょう。<br>\n"
   ]
  },
  {
   "cell_type": "code",
   "execution_count": 212,
   "metadata": {},
   "outputs": [],
   "source": []
  },
  {
   "cell_type": "code",
   "execution_count": 213,
   "metadata": {},
   "outputs": [
    {
     "data": {
      "text/plain": [
       "[['Clubs', 4],\n",
       " ['Diamonds', 1],\n",
       " ['Diamonds', 5],\n",
       " ['Clubs', 2],\n",
       " ['Clubs', 12],\n",
       " ['Spades', 6],\n",
       " ['Diamonds', 11],\n",
       " ['Hearts', 5],\n",
       " ['Spades', 12],\n",
       " ['Diamonds', 3]]"
      ]
     },
     "execution_count": 213,
     "metadata": {},
     "output_type": "execute_result"
    }
   ],
   "source": [
    "draw(10)"
   ]
  },
  {
   "cell_type": "code",
   "execution_count": 215,
   "metadata": {},
   "outputs": [],
   "source": []
  },
  {
   "cell_type": "code",
   "execution_count": 216,
   "metadata": {},
   "outputs": [
    {
     "data": {
      "text/plain": [
       "[['Spades', 11]]"
      ]
     },
     "execution_count": 216,
     "metadata": {},
     "output_type": "execute_result"
    }
   ],
   "source": [
    "draw()"
   ]
  },
  {
   "cell_type": "markdown",
   "metadata": {},
   "source": [
    "## Q2.5 if文を復習しよう\n",
    "ここでif文を確認してください。<br>\n",
    "今回は下記のように返してくれる関数checkを作成してください。\n",
    "$$\n",
    "x = \n",
    "  \\begin{cases}\n",
    "    10~(11\\leq x\\leq 13)\\\\\n",
    "    x~(その他) \\\\\n",
    "  \\end{cases}\n",
    "$$"
   ]
  },
  {
   "cell_type": "code",
   "execution_count": 217,
   "metadata": {},
   "outputs": [
    {
     "name": "stdout",
     "output_type": "stream",
     "text": [
      "通れ!\n"
     ]
    }
   ],
   "source": []
  },
  {
   "cell_type": "code",
   "execution_count": 218,
   "metadata": {},
   "outputs": [
    {
     "data": {
      "text/plain": [
       "'通れ!'"
      ]
     },
     "execution_count": 218,
     "metadata": {},
     "output_type": "execute_result"
    }
   ],
   "source": []
  },
  {
   "cell_type": "markdown",
   "metadata": {},
   "source": [
    "## Q2.5 絵札の場合を考えよう\n",
    "BJでは絵札を全て10として扱います。<br>\n",
    "これをif文を使用して作成してみましょう。"
   ]
  },
  {
   "cell_type": "code",
   "execution_count": 219,
   "metadata": {},
   "outputs": [],
   "source": []
  },
  {
   "cell_type": "code",
   "execution_count": 220,
   "metadata": {},
   "outputs": [
    {
     "name": "stdout",
     "output_type": "stream",
     "text": [
      "1\n",
      "2\n",
      "3\n",
      "4\n",
      "5\n",
      "6\n",
      "7\n",
      "8\n",
      "9\n",
      "10\n",
      "10\n",
      "10\n",
      "10\n"
     ]
    }
   ],
   "source": []
  },
  {
   "cell_type": "markdown",
   "metadata": {},
   "source": [
    "## Q2.7 手札の合計を計算しよう(2~10だけの場合)\n",
    "Pythonの基本的な関数であるsum()を指定してみましょう。<br>\n",
    "関数の引数としてリスト型のデータを入れると合計値を出すことができます。"
   ]
  },
  {
   "cell_type": "code",
   "execution_count": 221,
   "metadata": {},
   "outputs": [
    {
     "data": {
      "text/plain": [
       "11"
      ]
     },
     "execution_count": 221,
     "metadata": {},
     "output_type": "execute_result"
    }
   ],
   "source": []
  },
  {
   "cell_type": "markdown",
   "metadata": {},
   "source": [
    "## Q2.8 手札の合計を計算しよう(絵札考慮版)\n"
   ]
  },
  {
   "cell_type": "code",
   "execution_count": 234,
   "metadata": {
    "scrolled": true
   },
   "outputs": [
    {
     "data": {
      "text/plain": [
       "[['Spades', 2], ['Hearts', 2]]"
      ]
     },
     "execution_count": 234,
     "metadata": {},
     "output_type": "execute_result"
    }
   ],
   "source": [
    "hand = draw(2)\n",
    "hand"
   ]
  },
  {
   "cell_type": "code",
   "execution_count": 235,
   "metadata": {},
   "outputs": [
    {
     "data": {
      "text/plain": [
       "2"
      ]
     },
     "execution_count": 235,
     "metadata": {},
     "output_type": "execute_result"
    }
   ],
   "source": [
    "hand[0][1]"
   ]
  },
  {
   "cell_type": "code",
   "execution_count": 236,
   "metadata": {},
   "outputs": [
    {
     "data": {
      "text/plain": [
       "4"
      ]
     },
     "execution_count": 236,
     "metadata": {},
     "output_type": "execute_result"
    }
   ],
   "source": [
    "hand_nubers = []\n",
    "\n",
    "for i in hand:\n",
    "    hand_nubers.append(i[1])\n",
    "    \n",
    "hand_checked10 = [check10(i) for i in hand_nubers]\n",
    "sum(hand_checked10)"
   ]
  },
  {
   "cell_type": "code",
   "execution_count": 3,
   "metadata": {},
   "outputs": [
    {
     "data": {
      "text/plain": [
       "1354"
      ]
     },
     "execution_count": 3,
     "metadata": {},
     "output_type": "execute_result"
    }
   ],
   "source": [
    "123+1231"
   ]
  }
 ],
 "metadata": {
  "kernelspec": {
   "display_name": "Python 3",
   "language": "python",
   "name": "python3"
  },
  "language_info": {
   "codemirror_mode": {
    "name": "ipython",
    "version": 3
   },
   "file_extension": ".py",
   "mimetype": "text/x-python",
   "name": "python",
   "nbconvert_exporter": "python",
   "pygments_lexer": "ipython3",
   "version": "3.7.3"
  }
 },
 "nbformat": 4,
 "nbformat_minor": 2
}
