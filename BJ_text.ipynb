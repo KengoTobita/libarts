{
  "nbformat": 4,
  "nbformat_minor": 0,
  "metadata": {
    "kernelspec": {
      "display_name": "Python 3",
      "language": "python",
      "name": "python3"
    },
    "language_info": {
      "codemirror_mode": {
        "name": "ipython",
        "version": 3
      },
      "file_extension": ".py",
      "mimetype": "text/x-python",
      "name": "python",
      "nbconvert_exporter": "python",
      "pygments_lexer": "ipython3",
      "version": "3.7.3"
    },
    "colab": {
      "name": "BJ_text.ipynb",
      "provenance": [],
      "include_colab_link": true
    }
  },
  "cells": [
    {
      "cell_type": "markdown",
      "metadata": {
        "id": "view-in-github",
        "colab_type": "text"
      },
      "source": [
        "<a href=\"https://colab.research.google.com/github/KengoTobita/libarts/blob/master/BJ_text.ipynb\" target=\"_parent\"><img src=\"https://colab.research.google.com/assets/colab-badge.svg\" alt=\"Open In Colab\"/></a>"
      ]
    },
    {
      "cell_type": "markdown",
      "metadata": {
        "id": "AS6XVziE2iLx",
        "colab_type": "text"
      },
      "source": [
        "# 1.デッキを作ろう\n",
        "飛田は最近テキサスホールデムポーカーにハマりました。<br>\n",
        "Pythonでポーカーについての研究をしたいと考えているので、トランプのデータが必要です。<br>\n",
        "そこで今回は皆さんの力を借りて、トランプを模したデータを作成していただきます。<br>\n",
        "## 今回作成してほしいデータ\n",
        "下記のセルにあるcsvファイルが完成品です。<br>\n",
        "二次元データの作成が目標です。"
      ]
    },
    {
      "cell_type": "code",
      "metadata": {
        "id": "ig3ozBaA2iL0",
        "colab_type": "code",
        "colab": {},
        "outputId": "6b2a2281-a75b-48e9-f25e-7092bf1932fb"
      },
      "source": [
        "import pandas as pd\n",
        "df = pd.read_csv(\"deck.csv\")\n",
        "df.head()"
      ],
      "execution_count": 0,
      "outputs": [
        {
          "output_type": "execute_result",
          "data": {
            "text/html": [
              "<div>\n",
              "<style scoped>\n",
              "    .dataframe tbody tr th:only-of-type {\n",
              "        vertical-align: middle;\n",
              "    }\n",
              "\n",
              "    .dataframe tbody tr th {\n",
              "        vertical-align: top;\n",
              "    }\n",
              "\n",
              "    .dataframe thead th {\n",
              "        text-align: right;\n",
              "    }\n",
              "</style>\n",
              "<table border=\"1\" class=\"dataframe\">\n",
              "  <thead>\n",
              "    <tr style=\"text-align: right;\">\n",
              "      <th></th>\n",
              "      <th>suits</th>\n",
              "      <th>number</th>\n",
              "    </tr>\n",
              "  </thead>\n",
              "  <tbody>\n",
              "    <tr>\n",
              "      <td>0</td>\n",
              "      <td>S</td>\n",
              "      <td>1</td>\n",
              "    </tr>\n",
              "    <tr>\n",
              "      <td>1</td>\n",
              "      <td>S</td>\n",
              "      <td>2</td>\n",
              "    </tr>\n",
              "    <tr>\n",
              "      <td>2</td>\n",
              "      <td>S</td>\n",
              "      <td>3</td>\n",
              "    </tr>\n",
              "    <tr>\n",
              "      <td>3</td>\n",
              "      <td>S</td>\n",
              "      <td>4</td>\n",
              "    </tr>\n",
              "    <tr>\n",
              "      <td>4</td>\n",
              "      <td>S</td>\n",
              "      <td>5</td>\n",
              "    </tr>\n",
              "  </tbody>\n",
              "</table>\n",
              "</div>"
            ],
            "text/plain": [
              "  suits  number\n",
              "0     S       1\n",
              "1     S       2\n",
              "2     S       3\n",
              "3     S       4\n",
              "4     S       5"
            ]
          },
          "metadata": {
            "tags": []
          },
          "execution_count": 51
        }
      ]
    },
    {
      "cell_type": "markdown",
      "metadata": {
        "id": "mtrKHH0o2iL6",
        "colab_type": "text"
      },
      "source": [
        "## Q1.1トランプのスートをまとめたリストを作成しよう。\n",
        "トランプのスートをまとめたリストを**suits**という変数に格納してください。<br>\n",
        "トランプのスートはSpades,Hearts,Diamonds,Clubsの４つです。"
      ]
    },
    {
      "cell_type": "code",
      "metadata": {
        "id": "tYdpE2GA2iL8",
        "colab_type": "code",
        "colab": {}
      },
      "source": [
        ""
      ],
      "execution_count": 0,
      "outputs": []
    },
    {
      "cell_type": "markdown",
      "metadata": {
        "id": "h_RNdgmc2iMC",
        "colab_type": "text"
      },
      "source": [
        "## Q2.トランプで使用する数字のリストをfor文で作成しよう。\n",
        "トランプで使用する数字をまとめたリストを**number**という変数に格納しましょう。<br>\n",
        "トランプで使用する数字は、2〜10の数字、Ace,Jack,Qeen,Kingの絵札からなりますが、<br>\n",
        "今回は面倒なので1〜13の数字のリストを作成します。<br>\n",
        "少し面倒ですがfor文を使用して作成してみましょう。"
      ]
    },
    {
      "cell_type": "code",
      "metadata": {
        "id": "dR4G8Ie-2iMD",
        "colab_type": "code",
        "colab": {},
        "outputId": "8fbb5311-45b8-4989-eecd-0b2142d8a49f"
      },
      "source": [
        ""
      ],
      "execution_count": 0,
      "outputs": [
        {
          "output_type": "execute_result",
          "data": {
            "text/plain": [
              "[1, 2, 3, 4, 5, 6, 7, 8, 9, 10, 11, 12, 13]"
            ]
          },
          "metadata": {
            "tags": []
          },
          "execution_count": 54
        }
      ]
    },
    {
      "cell_type": "markdown",
      "metadata": {
        "id": "64J2MbjF2iMJ",
        "colab_type": "text"
      },
      "source": [
        "## Q1.3 リスト内包表記を使用して作成しよう。\n",
        "少しPythonに慣れている方は、発展的な問題に挑戦してみましょう。<br>\n",
        "Pythonにはリスト内包表記という便利な機能があります。<br>\n",
        "これを使用することで、短くわかりやすいコードで簡単にリスト型データを作成することができます。"
      ]
    },
    {
      "cell_type": "code",
      "metadata": {
        "id": "xToqXc5E2iMK",
        "colab_type": "code",
        "colab": {},
        "outputId": "87e1a9a2-0907-4f2c-881d-7946dc0d9578"
      },
      "source": [
        ""
      ],
      "execution_count": 0,
      "outputs": [
        {
          "output_type": "execute_result",
          "data": {
            "text/plain": [
              "[1, 2, 3, 4, 5, 6, 7, 8, 9, 10, 11, 12, 13]"
            ]
          },
          "metadata": {
            "tags": []
          },
          "execution_count": 1
        }
      ]
    },
    {
      "cell_type": "markdown",
      "metadata": {
        "id": "0ubzmfnY2iMQ",
        "colab_type": "text"
      },
      "source": [
        "## Q1.4 簡単に2次元データを作成しよう。\n",
        "リスト型データの中にリスト型データを入れ、二次元データを作成することが可能です。"
      ]
    },
    {
      "cell_type": "code",
      "metadata": {
        "id": "CsVBw6Xo2iMS",
        "colab_type": "code",
        "colab": {},
        "outputId": "cd58a943-b18b-4dcf-8dcd-364c7d0e6040"
      },
      "source": [
        ""
      ],
      "execution_count": 0,
      "outputs": [
        {
          "output_type": "execute_result",
          "data": {
            "text/plain": [
              "[['Spades', 1],\n",
              " ['Spades', 2],\n",
              " ['Spades', 3],\n",
              " ['Spades', 4],\n",
              " ['Spades', 5],\n",
              " ['Spades', 6],\n",
              " ['Spades', 7],\n",
              " ['Spades', 8],\n",
              " ['Spades', 9],\n",
              " ['Spades', 10],\n",
              " ['Spades', 11],\n",
              " ['Spades', 12],\n",
              " ['Spades', 13],\n",
              " ['Hearts', 1],\n",
              " ['Hearts', 2],\n",
              " ['Hearts', 3],\n",
              " ['Hearts', 4],\n",
              " ['Hearts', 5],\n",
              " ['Hearts', 6],\n",
              " ['Hearts', 7],\n",
              " ['Hearts', 8],\n",
              " ['Hearts', 9],\n",
              " ['Hearts', 10],\n",
              " ['Hearts', 11],\n",
              " ['Hearts', 12],\n",
              " ['Hearts', 13],\n",
              " ['Diamonds', 1],\n",
              " ['Diamonds', 2],\n",
              " ['Diamonds', 3],\n",
              " ['Diamonds', 4],\n",
              " ['Diamonds', 5],\n",
              " ['Diamonds', 6],\n",
              " ['Diamonds', 7],\n",
              " ['Diamonds', 8],\n",
              " ['Diamonds', 9],\n",
              " ['Diamonds', 10],\n",
              " ['Diamonds', 11],\n",
              " ['Diamonds', 12],\n",
              " ['Diamonds', 13],\n",
              " ['Clubs', 1],\n",
              " ['Clubs', 2],\n",
              " ['Clubs', 3],\n",
              " ['Clubs', 4],\n",
              " ['Clubs', 5],\n",
              " ['Clubs', 6],\n",
              " ['Clubs', 7],\n",
              " ['Clubs', 8],\n",
              " ['Clubs', 9],\n",
              " ['Clubs', 10],\n",
              " ['Clubs', 11],\n",
              " ['Clubs', 12],\n",
              " ['Clubs', 13]]"
            ]
          },
          "metadata": {
            "tags": []
          },
          "execution_count": 109
        }
      ]
    },
    {
      "cell_type": "markdown",
      "metadata": {
        "id": "_PFhMsgf2iMa",
        "colab_type": "text"
      },
      "source": [
        "リスト内包表記で作成してみましょう"
      ]
    },
    {
      "cell_type": "code",
      "metadata": {
        "id": "cz5fOTLv2iMc",
        "colab_type": "code",
        "colab": {}
      },
      "source": [
        ""
      ],
      "execution_count": 0,
      "outputs": []
    },
    {
      "cell_type": "markdown",
      "metadata": {
        "id": "Jk-hr63H2iMi",
        "colab_type": "text"
      },
      "source": [
        "## Q1.5 リスト型のデータから必要なものを取り出そう\n",
        "リスト型のデータから指定したものを取り出してみましょう\n",
        "1. 2番目のデータ\n",
        "1. 3番目までのデータ\n",
        "1. 2番目から6番目までのデータ"
      ]
    },
    {
      "cell_type": "code",
      "metadata": {
        "id": "OK4SdXED2iMk",
        "colab_type": "code",
        "colab": {}
      },
      "source": [
        "q15 = [i for i in range(15)]\n",
        "\n",
        "answer1\n"
      ],
      "execution_count": 0,
      "outputs": []
    },
    {
      "cell_type": "markdown",
      "metadata": {
        "id": "ocTFE57h2iMp",
        "colab_type": "text"
      },
      "source": [
        "## Q1.5 指定した一枚を取ってみましょう\n",
        "作成したデータから指定した一枚を取り出してみましょう。<br>\n",
        "とりあえずdeckの上から10枚目のカードを取り出してみましょう。<br>"
      ]
    },
    {
      "cell_type": "markdown",
      "metadata": {
        "id": "QiCB_HA02iMr",
        "colab_type": "text"
      },
      "source": [
        "ここは割愛"
      ]
    },
    {
      "cell_type": "code",
      "metadata": {
        "id": "4ycd-PC12iMt",
        "colab_type": "code",
        "colab": {}
      },
      "source": [
        "import pandas as pd\n",
        "df = pd.DataFrame(deck, columns=[\"suits\", \"number\"])\n",
        "df.to_csv(\"deck.csv\", index=False)"
      ],
      "execution_count": 0,
      "outputs": []
    },
    {
      "cell_type": "code",
      "metadata": {
        "id": "IeI5jtLQ2iMy",
        "colab_type": "code",
        "colab": {},
        "outputId": "7cdc8fd8-4281-4b1c-ccc8-0b85877e06be"
      },
      "source": [
        "!ls"
      ],
      "execution_count": 0,
      "outputs": [
        {
          "output_type": "stream",
          "text": [
            "deck.csv  Untitled.ipynb  work\r\n"
          ],
          "name": "stdout"
        }
      ]
    },
    {
      "cell_type": "markdown",
      "metadata": {
        "id": "XbsLfti72iM3",
        "colab_type": "text"
      },
      "source": [
        "***\n",
        "# ブラックジャックをしよう\n",
        "ブラックジャックをご存知でしょうか？<br>\n",
        "トランプを使用したゲームの1つで、複数枚のカードの数字の合計が21になるように目指すゲームです。<br>\n",
        "先程作成した、トランプを模した二次元データdeckを使用してやってみましょう。"
      ]
    },
    {
      "cell_type": "markdown",
      "metadata": {
        "id": "AN92bqcJ2iM5",
        "colab_type": "text"
      },
      "source": [
        "## Q2.1 deckを確認しよう\n",
        "先程作成したdeckを確認してください。<br>\n",
        "なんやかんやしていると、どっか行くので作り直してください。<br>\n",
        "<br>\n",
        "あとで引数の確認が面倒なのでcolummsが\\[suits, number\\]になっている事を確認してください。"
      ]
    },
    {
      "cell_type": "markdown",
      "metadata": {
        "id": "vPtDshru2iM7",
        "colab_type": "text"
      },
      "source": [
        "## Q2.2 randomライブラリを使用してみよう\n",
        "初めてのPythonライブラリを使用してみましょう。<br>\n",
        "今回はdeckの中からランダムにカードを引くために、randomライブラリを使用してみましょう。<br>\n",
        "https://note.nkmk.me/python-random-choice-sample-choices/"
      ]
    },
    {
      "cell_type": "code",
      "metadata": {
        "id": "F5P_IUCh2iM8",
        "colab_type": "code",
        "colab": {},
        "outputId": "236f2d45-c1b2-4548-eaef-4ecfa1a97a79"
      },
      "source": [
        ""
      ],
      "execution_count": 0,
      "outputs": [
        {
          "output_type": "execute_result",
          "data": {
            "text/plain": [
              "['Hearts', 5]"
            ]
          },
          "metadata": {
            "tags": []
          },
          "execution_count": 209
        }
      ]
    },
    {
      "cell_type": "markdown",
      "metadata": {
        "id": "Z4T0NH_c2iNB",
        "colab_type": "text"
      },
      "source": [
        "## Q2.3 関数を使用してカードをランダムに一枚引く関数を作成しよう\n",
        "deckからランダムにカードを一枚引く関数を作成してください。<Br>"
      ]
    },
    {
      "cell_type": "code",
      "metadata": {
        "scrolled": true,
        "id": "2ypnv4hJ2iND",
        "colab_type": "code",
        "colab": {}
      },
      "source": [
        ""
      ],
      "execution_count": 0,
      "outputs": []
    },
    {
      "cell_type": "code",
      "metadata": {
        "id": "al4aDphp2iNI",
        "colab_type": "code",
        "colab": {},
        "outputId": "c6bcc371-a748-4646-c36c-39b18248af64"
      },
      "source": [
        "draw()"
      ],
      "execution_count": 0,
      "outputs": [
        {
          "output_type": "execute_result",
          "data": {
            "text/plain": [
              "[['Clubs', 5]]"
            ]
          },
          "metadata": {
            "tags": []
          },
          "execution_count": 211
        }
      ]
    },
    {
      "cell_type": "markdown",
      "metadata": {
        "id": "f2c3zuZK2iNN",
        "colab_type": "text"
      },
      "source": [
        "## Q2.4 関数に引数を追加してドロー枚数を指定しよう\n",
        "現状の関数では一枚づつしか引けません。<br>\n",
        "ここで引数を使用してドローする枚数を指定してみましょう。<br>\n"
      ]
    },
    {
      "cell_type": "code",
      "metadata": {
        "id": "5pWohGLE2iNO",
        "colab_type": "code",
        "colab": {}
      },
      "source": [
        ""
      ],
      "execution_count": 0,
      "outputs": []
    },
    {
      "cell_type": "code",
      "metadata": {
        "id": "MSqTqa_d2iNT",
        "colab_type": "code",
        "colab": {},
        "outputId": "d58c6ba8-8a93-4096-f6c2-6652b4cb874f"
      },
      "source": [
        "draw(10)"
      ],
      "execution_count": 0,
      "outputs": [
        {
          "output_type": "execute_result",
          "data": {
            "text/plain": [
              "[['Clubs', 4],\n",
              " ['Diamonds', 1],\n",
              " ['Diamonds', 5],\n",
              " ['Clubs', 2],\n",
              " ['Clubs', 12],\n",
              " ['Spades', 6],\n",
              " ['Diamonds', 11],\n",
              " ['Hearts', 5],\n",
              " ['Spades', 12],\n",
              " ['Diamonds', 3]]"
            ]
          },
          "metadata": {
            "tags": []
          },
          "execution_count": 213
        }
      ]
    },
    {
      "cell_type": "code",
      "metadata": {
        "id": "B94-Oyfr2iNX",
        "colab_type": "code",
        "colab": {}
      },
      "source": [
        ""
      ],
      "execution_count": 0,
      "outputs": []
    },
    {
      "cell_type": "code",
      "metadata": {
        "id": "BFe0Fn0_2iNb",
        "colab_type": "code",
        "colab": {},
        "outputId": "43d291f1-d659-400d-8ca8-357735bdd214"
      },
      "source": [
        "draw()"
      ],
      "execution_count": 0,
      "outputs": [
        {
          "output_type": "execute_result",
          "data": {
            "text/plain": [
              "[['Spades', 11]]"
            ]
          },
          "metadata": {
            "tags": []
          },
          "execution_count": 216
        }
      ]
    },
    {
      "cell_type": "markdown",
      "metadata": {
        "id": "WKmVAAsC2iNg",
        "colab_type": "text"
      },
      "source": [
        "## Q2.5 if文を復習しよう\n",
        "ここでif文を確認してください。<br>\n",
        "今回は下記のように返してくれる関数checkを作成してください。\n",
        "$$\n",
        "x = \n",
        "  \\begin{cases}\n",
        "    10~(11\\leq x\\leq 13)\\\\\n",
        "    x~(その他) \\\\\n",
        "  \\end{cases}\n",
        "$$"
      ]
    },
    {
      "cell_type": "code",
      "metadata": {
        "id": "koSMExnj2iNi",
        "colab_type": "code",
        "colab": {},
        "outputId": "8284cd02-e5cc-471e-da7e-e23fafe12811"
      },
      "source": [
        ""
      ],
      "execution_count": 0,
      "outputs": [
        {
          "output_type": "stream",
          "text": [
            "通れ!\n"
          ],
          "name": "stdout"
        }
      ]
    },
    {
      "cell_type": "code",
      "metadata": {
        "id": "E77Se0xw2iNn",
        "colab_type": "code",
        "colab": {},
        "outputId": "f5294634-8b99-42d9-8f80-3f5035e012a7"
      },
      "source": [
        ""
      ],
      "execution_count": 0,
      "outputs": [
        {
          "output_type": "execute_result",
          "data": {
            "text/plain": [
              "'通れ!'"
            ]
          },
          "metadata": {
            "tags": []
          },
          "execution_count": 218
        }
      ]
    },
    {
      "cell_type": "markdown",
      "metadata": {
        "id": "-ZHYeOn12iNs",
        "colab_type": "text"
      },
      "source": [
        "## Q2.5 絵札の場合を考えよう\n",
        "BJでは絵札を全て10として扱います。<br>\n",
        "これをif文を使用して作成してみましょう。"
      ]
    },
    {
      "cell_type": "code",
      "metadata": {
        "id": "pj9DYiws2iNt",
        "colab_type": "code",
        "colab": {}
      },
      "source": [
        ""
      ],
      "execution_count": 0,
      "outputs": []
    },
    {
      "cell_type": "code",
      "metadata": {
        "id": "yshD-HMN2iNx",
        "colab_type": "code",
        "colab": {},
        "outputId": "a478adf5-2543-4977-e115-a892268531af"
      },
      "source": [
        ""
      ],
      "execution_count": 0,
      "outputs": [
        {
          "output_type": "stream",
          "text": [
            "1\n",
            "2\n",
            "3\n",
            "4\n",
            "5\n",
            "6\n",
            "7\n",
            "8\n",
            "9\n",
            "10\n",
            "10\n",
            "10\n",
            "10\n"
          ],
          "name": "stdout"
        }
      ]
    },
    {
      "cell_type": "markdown",
      "metadata": {
        "id": "LKLhdFUY2iN0",
        "colab_type": "text"
      },
      "source": [
        "## Q2.7 手札の合計を計算しよう(2~10だけの場合)\n",
        "Pythonの基本的な関数であるsum()を指定してみましょう。<br>\n",
        "関数の引数としてリスト型のデータを入れると合計値を出すことができます。"
      ]
    },
    {
      "cell_type": "code",
      "metadata": {
        "id": "rLAdfmct2iN2",
        "colab_type": "code",
        "colab": {},
        "outputId": "900d220c-142f-4cf1-a64c-7afe21f00a2b"
      },
      "source": [
        ""
      ],
      "execution_count": 0,
      "outputs": [
        {
          "output_type": "execute_result",
          "data": {
            "text/plain": [
              "11"
            ]
          },
          "metadata": {
            "tags": []
          },
          "execution_count": 221
        }
      ]
    },
    {
      "cell_type": "markdown",
      "metadata": {
        "id": "PqboslBP2iN7",
        "colab_type": "text"
      },
      "source": [
        "## Q2.8 手札の合計を計算しよう(絵札考慮版)\n"
      ]
    },
    {
      "cell_type": "code",
      "metadata": {
        "scrolled": true,
        "id": "yLkRpiE32iN9",
        "colab_type": "code",
        "colab": {},
        "outputId": "d4bf829b-2b64-45cd-8768-7bb9ef09f901"
      },
      "source": [
        "hand = draw(2)\n",
        "hand"
      ],
      "execution_count": 0,
      "outputs": [
        {
          "output_type": "execute_result",
          "data": {
            "text/plain": [
              "[['Spades', 2], ['Hearts', 2]]"
            ]
          },
          "metadata": {
            "tags": []
          },
          "execution_count": 234
        }
      ]
    },
    {
      "cell_type": "code",
      "metadata": {
        "id": "MKX7Ub472iOB",
        "colab_type": "code",
        "colab": {},
        "outputId": "02a07a26-24e7-4739-c2de-a2dc7e1d9273"
      },
      "source": [
        "hand[0][1]"
      ],
      "execution_count": 0,
      "outputs": [
        {
          "output_type": "execute_result",
          "data": {
            "text/plain": [
              "2"
            ]
          },
          "metadata": {
            "tags": []
          },
          "execution_count": 235
        }
      ]
    },
    {
      "cell_type": "code",
      "metadata": {
        "id": "L6_wjFFd2iOH",
        "colab_type": "code",
        "colab": {},
        "outputId": "6a83585e-0b77-4fe7-d5da-50942dc3d08b"
      },
      "source": [
        "hand_nubers = []\n",
        "\n",
        "for i in hand:\n",
        "    hand_nubers.append(i[1])\n",
        "    \n",
        "hand_checked10 = [check10(i) for i in hand_nubers]\n",
        "sum(hand_checked10)"
      ],
      "execution_count": 0,
      "outputs": [
        {
          "output_type": "execute_result",
          "data": {
            "text/plain": [
              "4"
            ]
          },
          "metadata": {
            "tags": []
          },
          "execution_count": 236
        }
      ]
    },
    {
      "cell_type": "code",
      "metadata": {
        "id": "zghJ_Ntg2iOL",
        "colab_type": "code",
        "colab": {},
        "outputId": "4404f989-6e2b-46fe-dda9-4b62fa4f6e28"
      },
      "source": [
        "123+1231"
      ],
      "execution_count": 0,
      "outputs": [
        {
          "output_type": "execute_result",
          "data": {
            "text/plain": [
              "1354"
            ]
          },
          "metadata": {
            "tags": []
          },
          "execution_count": 3
        }
      ]
    }
  ]
}