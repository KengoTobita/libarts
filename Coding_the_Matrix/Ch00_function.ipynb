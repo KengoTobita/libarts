{
 "cells": [
  {
   "cell_type": "markdown",
   "metadata": {},
   "source": [
    "# ch00 関数(とその他の数学とコンピュータに関する予備知識)\n",
    "本章の要約\n",
    "* Python基本文法\n",
    "* 関数に関する用語を確認\n",
    "* 確率の基本的知識\n",
    "*** "
   ]
  },
  {
   "cell_type": "markdown",
   "metadata": {},
   "source": [
    "## 0.1 集合に関する用語と記法\n",
    "集合とは数学的な対象の集まりであり、それぞれの対象は重複しない。<br>\n",
    "ある集合に属する対象はその集合の要素である。<br>\n",
    "参考書籍では下記のように各要素を中括弧で囲む形式で表記する。<br>\n",
    "また、要素の順序に意味はない。すなわち集合は要素間に順序はつかない。<br>\n",
    "$\\in$という記号は対象が集合に属することを示すのに使用される。<br>\n",
    "<br>\n",
    "$$\n",
    "A \\in \\{A,B,C,D\\}　\n",
    "$$\n",
    "<br>\n",
    "ある集合$S_1$のすべての要素が、他の集合$S_2$に**含まれる**といい、$S_1 \\subseteq S_2$と書く。<br>\n",
    "集合$S$が無限集合でない場合、$S$の**濃度**とはその集合が持つ要素の数を指定し、$|S|$と書く。<br>\n",
    "例えば上記の式の場合、濃度は4である。<br>"
   ]
  },
  {
   "cell_type": "markdown",
   "metadata": {},
   "source": [
    "## 0.2 デカルト積\n",
    "2つの集合$A$、$B$の**デカルト積**とは、$a \\in A$、$b \\in B$として、$(a,b)$の組すべてからなる集合のことである。<br>"
   ]
  },
  {
   "cell_type": "code",
   "execution_count": 4,
   "metadata": {},
   "outputs": [
    {
     "data": {
      "text/plain": [
       "[('A', 'a'),\n",
       " ('A', 'b'),\n",
       " ('A', 'c'),\n",
       " ('A', 'd'),\n",
       " ('B', 'a'),\n",
       " ('B', 'b'),\n",
       " ('B', 'c'),\n",
       " ('B', 'd'),\n",
       " ('C', 'a'),\n",
       " ('C', 'b'),\n",
       " ('C', 'c'),\n",
       " ('C', 'd')]"
      ]
     },
     "execution_count": 4,
     "metadata": {},
     "output_type": "execute_result"
    }
   ],
   "source": [
    "a = [\"A\",\"B\",\"C\"]\n",
    "b = [\"a\",\"b\",\"c\",\"d\"]\n",
    "\n",
    "decalt = [(i,j) for i in a\n",
    "                for j in b]\n",
    "\n",
    "decalt"
   ]
  },
  {
   "cell_type": "markdown",
   "metadata": {},
   "source": [
    "上記のデカルト積の場合、濃度は12である。<br>\n",
    "<br>\n",
    "**命題 0.2.3 :** 有限集合$A$、$B$に対して$|A\\times B| = |A| \\cdot |B|$ が成り立つ。\n",
    ">**答え**\n",
    ">命題0.2.3を用いる。1つめの集合の濃度は13、2つめの集合の濃度が4なので、これらのデカルト積の濃度は$13 \\cdot 4 = 52$となる。"
   ]
  },
  {
   "cell_type": "markdown",
   "metadata": {},
   "source": [
    "## 0.3 関数\n",
    "関数は大雑把にいうと、可能な入力全体からなる集合の各要素に対し、ある可能な出力を割り当てるための規則である。<br>\n",
    "ある入力に対する出力のことをその関数に対するその入力の**像**と呼び、<br>\n",
    "ある出力に対する入力のことをその関数によるその出力を**原像**と呼ぶ。<br>\n",
    "可能な入力全体からなる集合は、この関数の**定義域**と呼ばれる。<br>\n",
    "形式的には、**関数**とは入力を$a$、出力を$b$とした組$(a,b)$の集合(無限集合を許す)である。<br>\n",
    "ただし異なる組$(a,b)$で$a$を共有することはない。<br>\n",
    "<br>\n",
    "$$ \n",
    "f:D \\rightarrow F\n",
    "$$\n",
    "<br>\n",
    "上記の場合は……「$fはDをFに写像する$」ということが可能である。<br>\n",
    "***\n",
    "\n",
    "|word|mean|\n",
    "|-|-|\n",
    "|像|ある関数の入力に対しての出力|\n",
    "|原像|ある関数の出力に対しての入力|\n",
    "|定義域|可能な入力全体からなる集合|\n",
    "|余定義域|可能な出力全体からなる集合|\n"
   ]
  },
  {
   "cell_type": "code",
   "execution_count": 4,
   "metadata": {},
   "outputs": [
    {
     "data": {
      "text/plain": [
       "{0: 0, 1: 2, 2: 4, 3: 6, 4: 8, 5: 10, 6: 12, 7: 14, 8: 16, 9: 18}"
      ]
     },
     "execution_count": 4,
     "metadata": {},
     "output_type": "execute_result"
    }
   ],
   "source": [
    "# 例:0.1.3 二倍関数\n",
    "twice = {i:2*i for i in range(10)}\n",
    "twice"
   ]
  },
  {
   "cell_type": "code",
   "execution_count": 8,
   "metadata": {},
   "outputs": [
    {
     "data": {
      "text/plain": [
       "[((1, 1), 1),\n",
       " ((1, 2), 2),\n",
       " ((1, 3), 3),\n",
       " ((1, 4), 4),\n",
       " ((2, 1), 2),\n",
       " ((2, 2), 4),\n",
       " ((2, 3), 6),\n",
       " ((2, 4), 8),\n",
       " ((3, 1), 3),\n",
       " ((3, 2), 6),\n",
       " ((3, 3), 9),\n",
       " ((3, 4), 12),\n",
       " ((4, 1), 4),\n",
       " ((4, 2), 8),\n",
       " ((4, 3), 12),\n",
       " ((4, 4), 16)]"
      ]
     },
     "execution_count": 8,
     "metadata": {},
     "output_type": "execute_result"
    }
   ],
   "source": [
    "# ex0.3.2 a,bの定義域を[1,2,3,4] にして……\n",
    "ex032 = [((i,j),i*j) for i in range(1,5)\n",
    "                     for j in range(1,5)]\n",
    "ex032"
   ]
  },
  {
   "cell_type": "markdown",
   "metadata": {},
   "source": [
    "**例 0,3,3** シーザー暗号の表現\n",
    "$$\n",
    "A \\mapsto D, B\\mapsto E, C\\mapsto F, D\\mapsto G\n",
    "$$"
   ]
  },
  {
   "cell_type": "markdown",
   "metadata": {},
   "source": [
    "**ex 0.3.4**　コサイン関数の表現\n",
    "$$\n",
    "cos:\\mathbb{R} \\rightarrow \\mathbb{R}\n",
    "$$"
   ]
  },
  {
   "cell_type": "markdown",
   "metadata": {},
   "source": [
    "### 0.3.1 関数vsプロージャーvs計算問題\n",
    "\n",
    "プロージャーは計算の手続きを正確に記述したものである。<br>\n",
    "即ち、**入力(引数とも)**と**出力（返り値とも)**を返す。<br>\n",
    "(今回の参考書籍ではプロージャーを関数とは区別します。)"
   ]
  },
  {
   "cell_type": "code",
   "execution_count": 13,
   "metadata": {},
   "outputs": [],
   "source": [
    "# ex0.3.6 プロージャーの例\n",
    "def mul(p,q) :return p*q"
   ]
  },
  {
   "cell_type": "markdown",
   "metadata": {},
   "source": [
    "**計算問題**はプロージャーが満たすべき入力と出力を指定したものである。<br>\n",
    "<br>\n",
    "**ex 0.3.7** 上のセルの計算問題<br>\n",
    "> - 入力 : 1より大きい整数の組p,q\n",
    "> - 出力 : 積pq"
   ]
  },
  {
   "cell_type": "markdown",
   "metadata": {},
   "source": [
    "### 0.3.2 関数に関連する2つの計算問題\n",
    "* 順問題 : $f$の定義域の要素$a$に対しての像f(a)を計算せよ ($f:a\\rightarrow r$)\n",
    "* 逆問題 : $f$のよ定義域の要素$r$に対して、全ての原像を計算せよ \n",
    "\n",
    "この2つの問題はどれくらい異なっているのだろうか？<bR>\n",
    "ここで定義域の任意の要素に対して$f$の像を計算する$P(x)$というプロージャーが存在するとしよう。<Br>\n",
    "$r$を計算する最も簡単なプロージャーは、定義域の各要素$q$に対して一つ一つプロージャー$P(x)$を適用して、<br>\n",
    "出力が$r$と一致するかどうかを調べるものである。<br>\n",
    "<br>\n",
    "このやり方は馬鹿馬鹿しいほどに無駄に満ちているように思える。<br>\n",
    "定義域が有限であっても原像問題を解くには、$P(x)$よりはるかに長い時間がかかるだろう。<br>\n",
    "しかし、これよりも良いやり方で、且つ、全ての関数に対して有効なものは存在しないのである。<br>\n",
    "かと言って、定義域を限定しすぎると現実の問題との関係は薄くなってしまう。<br>\n",
    "線形代数では、そのスイートスポットを見つけ出すことができる。<br>"
   ]
  },
  {
   "cell_type": "markdown",
   "metadata": {},
   "source": [
    "### 0.3.3 特定の定義域と余定義域を持つ関数の集合に関する記法\n",
    "集合$D$、$F$に対してDからFへの関数全体を$F^D$を表す。<br>\n",
    "例えば、単語の集合$W$から実数の集合$R$への関数は、$R^W$と書かれる。<br>\n",
    "<br>\n",
    "事実 0.3.9 任意の有限集合$D$、$F$に対して$|D^F| = |D|^{|F|}$となる。"
   ]
  },
  {
   "cell_type": "markdown",
   "metadata": {},
   "source": [
    "### 0.3.5 関数の合成\n",
    "関数の合成($function~composition$)は、2つの関数から1つの新しい関数を作り出す。<br>\n",
    "2つの関数$f:A \\rightarrow B$と$g: B\\rightarrow C$ が与えられたとき、関数$g\\circ f$は定義域が$A$、余定義域が$C$の関数となる<br>\n",
    "<br>\n",
    "$$\n",
    "(g \\circ f)(x) = g(f(x))\n",
    "$$\n",
    "<br>\n",
    "**ex 0.3.11**　関数\n",
    "$$\n",
    "f:\\{A,B,C,D,E, \\dots,Z\\}\\rightarrow \\{0,1,2,3,\\dots,25\\}\n",
    "$$\n",
    "を次のように定義する。\n",
    "$$\n",
    "A\\mapsto0, B\\mapsto1, C\\mapsto2,\\dots,Z\\mapsto25\n",
    "$$\n",
    "<br>\n",
    "2つめの関数$g$は次のように定義する。<br>\n",
    "$g$の定義域と余定義域は、どちらも集合{0,1,2,3,…,25}で、$g(X) =(x+3)mod26$とする。<br>\n",
    "3つ目の関数$h$は定義域を$\\{0,\\dots,25\\}$、余定義域$\\{A,\\dots,Z\\}$とし、<br>\n",
    "$0\\mapsto A, 1\\mapsto B, 3\\mapsto C$などとする。このとき$h\\circ (g\\circ f)$は前述のシーザー暗号と同じになる。"
   ]
  },
  {
   "cell_type": "markdown",
   "metadata": {},
   "source": [
    "### 0.3.6 関数の合成の結合則\n",
    "次に関数の合成が**結合則**を満たすことを示す。\n",
    "**命題 0.3.12 合成の結合則**　関数$f$、$g$、$h$に対し、\n",
    "$$\n",
    "(h \\circ (g \\circ f)) = (h\\circ g)\\circ f\n",
    "$$\n",
    "である。ただし合成が定義されているものとする。"
   ]
  },
  {
   "cell_type": "markdown",
   "metadata": {},
   "source": [
    "### 0.3.7 逆関数\n",
    "**定義 0.3.13** : 以下の場合、関数$f$と$g$はお互いに**逆関数(function inverses)**である。<br>\n",
    "* $g\\circ f$が定義され、$f$の定義域に対して恒等関数である。\n",
    "* $f\\circ g$が定義され、$g$の定義域に対して恒等関数である。<br>\n",
    "<br>\n",
    "$f$の逆関数を$f^{-1}$と書く。<br>\n",
    "<br>\n",
    "全ての関数が逆関数を持つわけではない。<br>\n",
    "逆関数を持つ関数は可逆である(invertible)という。<Br>\n",
    "\n",
    "**定義 0.3.14**　\n",
    ">関数$f:D\\rightarrow F$を考える。全ての$x,y \\in D$に対して、$f(x)=f(y)$ならば、$X=y$が成り立つ場合、$f$は**単射**であるという。<br>\n",
    ">全ての$z\\in F$に対して、$f(x)= z$が成り立つ$x\\in D$が存在する場合、$f$は**全射**であるという。"
   ]
  },
  {
   "cell_type": "markdown",
   "metadata": {},
   "source": [
    "**補題 0.3.16** : 可逆な関数は単射である。\n",
    ">$f$が単射ではないとして、$x_1$と$x_2$を$f(x_1)= f(x_2)$であるような定義域の異なる要素とする。<br>\n",
    ">$y=f(x_1)$とする。矛盾を導くために$f$が可逆であると仮定する。<br>\n",
    ">逆関数の定義から$f^{-1}(y)=x_1$と$f^{-1}(y)= x_2$が導き出されるが、これらを満たす関数は定義できない。"
   ]
  },
  {
   "cell_type": "markdown",
   "metadata": {},
   "source": [
    "**補題 0.3.17** : 可逆な関数は全射である。\n",
    ">$f$が全射ではないとし、$\\hat{y}$を定義域のいずれ要素の像でもないような余定義域の要素とする。<br>\n",
    ">矛盾を導くために$f$が可逆であると仮定すると、$\\hat{y}$は$f^{-1}$に対して像$\\hat{x}$を持つ。<br>\n",
    ">逆関数の定義から$f(\\hat{x}) = \\hat{y}$となり矛盾する。"
   ]
  },
  {
   "cell_type": "markdown",
   "metadata": {},
   "source": [
    "**定理 0.3.18 (逆関数定理)** : 関数は可逆である時、且つ，その時に限り、その関数は単射且つ全射である。\n",
    ">補題0.3.16、0.3.17は、可逆な関数が単射かつ全射であることを示している。<br>\n",
    ">逆に$f$が単射かつ全射とし、以下のように$f$の定義域を余定義域に持つような関数$g$を定義する。\n",
    ">\n",
    ">$f$は全射なので、余定義域の各要素$\\hat{y}$に対し、$f(\\hat{x})=\\hat{y}$が成り立つ要素$\\hat{x}$が$f$の定義域に存在する。<br>\n",
    ">即ち$g(\\hat{y})$が定義できる。\n",
    ">\n",
    ">$g\\circ f$の定義域に対して恒等関数であることを主張する。<br>\n",
    ">$\\hat{x}$を$f$の定義域の任意の要素とし、$\\hat{y}=f(\\hat{x})$とする。<br>\n",
    ">$f$は単射なので$\\hat{x}$はその$f$による像が$\\hat{y}$であるような定義域の唯一の要素であり、$g(\\hat{y})=\\hat{x}$である。<br>\n",
    ">これは$g\\circ f$は$g$の定義域に対して恒等関数であることを主張する。<br>\n",
    ">$\\hat{y}$の$g$の定義域の任意の要素とすると、$g$の定義より$f(g(\\hat{y}))= \\hat{y}$となる。"
   ]
  },
  {
   "cell_type": "markdown",
   "metadata": {},
   "source": [
    "**補題 0.3.19** : 全ての関数は高々1つの逆関数しか持たない\n",
    ">$f: U\\rightarrow V$を可逆な関数とする。$g_1$と$g_2$をどちらも$f$の逆関数と仮定して、全ての$\\nu \\in V$に対して$g_1(\\nu)= g_2(\\nu)$であることを示せば、$g_1$と$g_2$は同じ関数と言える。\n",
    ">$\\nu$を$f$の余定義域の任意の要素とする。$f$は全射なので(補題0.3.17)、$\\nu=f(\\nu)$\n",
    ">\n",
    ">\n",
    ">"
   ]
  },
  {
   "cell_type": "markdown",
   "metadata": {},
   "source": [
    "## 0.4 確率\n",
    "確率論は何が起こりうるかに関するものであり、起こる可能性がどのくらいあるかについて扱うものである。<br>\n",
    "\n",
    "### 0.4.1 確率分布\n",
    "有限な定義域$\\Omega$から非負の実数$\\mathbb{R}^+$への関数$Pr(\\cdot)$は、$\\Sigma_{\\omega\\in \\Omega}Pr(\\omega)=1$を満たすとき、**(離散)確率分布**になる。<br>\n",
    "この定義域の要素を**結果**という。<br>\n",
    "$Pr(\\cdot)$の結果の像はその結果の確率という。<br>\n",
    "確率とは結果の相対的な可能性(尤度)に比例すると考えることができる。<br>\n",
    "ここでは可能性という言葉を一般的な意味で使い、確率という言葉をその数学的な抽象化の意味で用いる。"
   ]
  },
  {
   "cell_type": "markdown",
   "metadata": {},
   "source": [
    "#### 一様分布\n",
    "全ての結果が同じ確率で起こりうる場合、即ち、全ての結果に同じ確率が割り当てられている場合である。<br>\n",
    "このとき、確率分布は一様であるという。"
   ]
  },
  {
   "cell_type": "markdown",
   "metadata": {},
   "source": [
    "#### 非一様分布\n",
    "更に複雑な場合は、異なる結果は異なる確率を持つ。<br>"
   ]
  },
  {
   "cell_type": "markdown",
   "metadata": {},
   "source": [
    "### 0.4.2 事象及び確率の和\n",
    "**原理 0.4.5 (確率論の基本原理)** : 事象の確率はその事象を構成する結果の確率の和である。"
   ]
  },
  {
   "cell_type": "markdown",
   "metadata": {},
   "source": [
    "### 0.4.3 関数の無作為な入力\n",
    "関数への入力が無作為の場合を考えよう。関数への入力が無作為な場合、出力も無作為になるべきである。<br>\n",
    "入力の確率分布と関数の機能が決まれば、確率論を用いて出力の確率分布を導き出す事ができる。<br>\n",
    "\n",
    "**Ex 0.4.6** : 関数$f : \\{1,2,3,4,5,6 \\} \\rightarrow \\{0,1\\}$ を、<br>\n",
    "$$\n",
    "f(x)=\\begin{cases}\n",
    "0 & (xが偶数)\\\\\n",
    "0 & (xが奇数)\n",
    "\\end{cases}\n",
    "$$\n",
    "上記の実験の結果に関する確率分布はどのようなものになるか？<br>\n",
    "結果が0になる確率は$\\frac{1}{6}+\\frac{1}{6}+\\frac{1}{6}$で$\\frac{1}{2}$、<bR>\n",
    "結果が1になる確率は$\\frac{1}{6}+\\frac{1}{6}+\\frac{1}{6}$で$\\frac{1}{2}$である。<br>"
   ]
  },
  {
   "cell_type": "markdown",
   "metadata": {},
   "source": [
    "### 0.4.4 完全秘匿\n",
    "* 暗号化されたメッセジージは対象となる人が受信した場合、復号化できなければならない。\n",
    "* 対象ではない人は復号化はできない。"
   ]
  },
  {
   "cell_type": "markdown",
   "metadata": {},
   "source": [
    "## ラボ:Python入門 集合、リスト、辞書、内包表記\n",
    "今回はpython文法基礎は割愛。それっぽいところだけ紹介。<br>"
   ]
  },
  {
   "cell_type": "markdown",
   "metadata": {},
   "source": [
    "### 本書においてのPython文法要点\n",
    "この本では、関数や条件式などを一行で書くことが多い。<br>\n",
    "せっかくなのでおさらいすることにする。<br>"
   ]
  },
  {
   "cell_type": "markdown",
   "metadata": {},
   "source": [
    "### 0.5.3 条件式"
   ]
  },
  {
   "cell_type": "code",
   "execution_count": 28,
   "metadata": {},
   "outputs": [
    {
     "name": "stdout",
     "output_type": "stream",
     "text": [
      "年齢を入れてください(半角数字)20\n",
      "お酒飲める\n"
     ]
    }
   ],
   "source": [
    "age = int(input(\"年齢を入れてください(半角数字)\"))\n",
    "\n",
    "print(\"お酒飲める\") if age>=20 else print(\"お酒飲めない\")"
   ]
  },
  {
   "cell_type": "code",
   "execution_count": 25,
   "metadata": {},
   "outputs": [
    {
     "name": "stdout",
     "output_type": "stream",
     "text": [
      "1\n",
      "2\n",
      "fizz\n",
      "4\n",
      "buzz\n",
      "fizz\n",
      "7\n",
      "8\n",
      "fizz\n",
      "buzz\n",
      "11\n",
      "fizz\n",
      "13\n",
      "14\n",
      "fizzbuzz\n"
     ]
    }
   ],
   "source": [
    "for i in range(1,16):\n",
    "    print(\"fizzbuzz\") if i%15==0 else print(\"fizz\") if i%3 == 0 else print(\"buzz\") if i%5==0 else print(i)"
   ]
  },
  {
   "cell_type": "markdown",
   "metadata": {},
   "source": [
    "### 0.5.4 集合"
   ]
  },
  {
   "cell_type": "code",
   "execution_count": 29,
   "metadata": {},
   "outputs": [],
   "source": [
    "collection = {\"a\",\"b\",\"c\",\"a\",\"a\"}"
   ]
  },
  {
   "cell_type": "code",
   "execution_count": 30,
   "metadata": {},
   "outputs": [
    {
     "data": {
      "text/plain": [
       "3"
      ]
     },
     "execution_count": 30,
     "metadata": {},
     "output_type": "execute_result"
    }
   ],
   "source": [
    "len(collection)"
   ]
  },
  {
   "cell_type": "code",
   "execution_count": 36,
   "metadata": {},
   "outputs": [
    {
     "data": {
      "text/plain": [
       "6"
      ]
     },
     "execution_count": 36,
     "metadata": {},
     "output_type": "execute_result"
    }
   ],
   "source": [
    "collectionl_num = {1,2,3,3,1,2,1,2}\n",
    "sum(collectionl_num)"
   ]
  },
  {
   "cell_type": "code",
   "execution_count": 33,
   "metadata": {},
   "outputs": [
    {
     "data": {
      "text/plain": [
       "True"
      ]
     },
     "execution_count": 33,
     "metadata": {},
     "output_type": "execute_result"
    }
   ],
   "source": [
    "\"a\" in collection"
   ]
  },
  {
   "cell_type": "code",
   "execution_count": 38,
   "metadata": {},
   "outputs": [
    {
     "data": {
      "text/plain": [
       "False"
      ]
     },
     "execution_count": 38,
     "metadata": {},
     "output_type": "execute_result"
    }
   ],
   "source": [
    "\"a\" in collectionl_num"
   ]
  },
  {
   "cell_type": "markdown",
   "metadata": {},
   "source": [
    "和集合"
   ]
  },
  {
   "cell_type": "code",
   "execution_count": 39,
   "metadata": {},
   "outputs": [
    {
     "data": {
      "text/plain": [
       "{1, 2, 3, 4}"
      ]
     },
     "execution_count": 39,
     "metadata": {},
     "output_type": "execute_result"
    }
   ],
   "source": [
    "{1,2,3} | {2,3,4}"
   ]
  },
  {
   "cell_type": "markdown",
   "metadata": {},
   "source": [
    "積集合"
   ]
  },
  {
   "cell_type": "code",
   "execution_count": 40,
   "metadata": {},
   "outputs": [
    {
     "data": {
      "text/plain": [
       "{2, 3}"
      ]
     },
     "execution_count": 40,
     "metadata": {},
     "output_type": "execute_result"
    }
   ],
   "source": [
    "{1,2,3} & {2,3,4}"
   ]
  },
  {
   "cell_type": "markdown",
   "metadata": {},
   "source": [
    "差集合"
   ]
  },
  {
   "cell_type": "code",
   "execution_count": 41,
   "metadata": {},
   "outputs": [
    {
     "data": {
      "text/plain": [
       "{1}"
      ]
     },
     "execution_count": 41,
     "metadata": {},
     "output_type": "execute_result"
    }
   ],
   "source": [
    "{1,2,3} - {2,3,4}"
   ]
  },
  {
   "cell_type": "markdown",
   "metadata": {},
   "source": [
    "集合の変更"
   ]
  },
  {
   "cell_type": "code",
   "execution_count": 48,
   "metadata": {},
   "outputs": [
    {
     "data": {
      "text/plain": [
       "{1, 3, 4}"
      ]
     },
     "execution_count": 48,
     "metadata": {},
     "output_type": "execute_result"
    }
   ],
   "source": [
    "S = {1,2,3}\n",
    "S.add(4)\n",
    "S.remove(2)\n",
    "S"
   ]
  },
  {
   "cell_type": "code",
   "execution_count": 49,
   "metadata": {},
   "outputs": [
    {
     "data": {
      "text/plain": [
       "{1, 3, 4, 5, 6}"
      ]
     },
     "execution_count": 49,
     "metadata": {},
     "output_type": "execute_result"
    }
   ],
   "source": [
    "S.update({4, 5, 6})\n",
    "S"
   ]
  },
  {
   "cell_type": "code",
   "execution_count": 50,
   "metadata": {},
   "outputs": [
    {
     "data": {
      "text/plain": [
       "{5, 6}"
      ]
     },
     "execution_count": 50,
     "metadata": {},
     "output_type": "execute_result"
    }
   ],
   "source": [
    "S.intersection_update({5,6,7,8,9})\n",
    "S"
   ]
  },
  {
   "cell_type": "code",
   "execution_count": 52,
   "metadata": {},
   "outputs": [
    {
     "data": {
      "text/plain": [
       "{6}"
      ]
     },
     "execution_count": 52,
     "metadata": {},
     "output_type": "execute_result"
    }
   ],
   "source": [
    "T = S\n",
    "T.remove(5)\n",
    "S"
   ]
  },
  {
   "cell_type": "markdown",
   "metadata": {},
   "source": [
    "集合の内包表記"
   ]
  },
  {
   "cell_type": "code",
   "execution_count": 53,
   "metadata": {},
   "outputs": [
    {
     "data": {
      "text/plain": [
       "{2, 4, 6}"
      ]
     },
     "execution_count": 53,
     "metadata": {},
     "output_type": "execute_result"
    }
   ],
   "source": [
    "{2*x for x in (1,2,3)}"
   ]
  },
  {
   "cell_type": "markdown",
   "metadata": {},
   "source": [
    "内包表記でも和集合や積集合の演算子を使用できる。"
   ]
  },
  {
   "cell_type": "code",
   "execution_count": 74,
   "metadata": {},
   "outputs": [
    {
     "data": {
      "text/plain": [
       "{1, 9, 25, 49}"
      ]
     },
     "execution_count": 74,
     "metadata": {},
     "output_type": "execute_result"
    }
   ],
   "source": [
    "{x*x for x in {1,3,5} | {5,7}}"
   ]
  },
  {
   "cell_type": "code",
   "execution_count": 56,
   "metadata": {},
   "outputs": [
    {
     "data": {
      "text/plain": [
       "{25}"
      ]
     },
     "execution_count": 56,
     "metadata": {},
     "output_type": "execute_result"
    }
   ],
   "source": [
    "{x*x for x in {1,3,5} & {5,7}}"
   ]
  },
  {
   "cell_type": "markdown",
   "metadata": {},
   "source": [
    "内包表記の最後に条件式を入れることで、集合の値のいくつかを省いて処理ができる。<br>\n",
    "この条件を**フィルタ**と呼ぶことができる。"
   ]
  },
  {
   "cell_type": "code",
   "execution_count": 57,
   "metadata": {},
   "outputs": [
    {
     "data": {
      "text/plain": [
       "{9, 25, 49}"
      ]
     },
     "execution_count": 57,
     "metadata": {},
     "output_type": "execute_result"
    }
   ],
   "source": [
    "{x*x for x in {1,3} | {5,7} if x >2}"
   ]
  },
  {
   "cell_type": "markdown",
   "metadata": {},
   "source": [
    "２つの集合のデカルト積を生成する内包表記は、次のように書くことができる。"
   ]
  },
  {
   "cell_type": "code",
   "execution_count": 59,
   "metadata": {},
   "outputs": [
    {
     "data": {
      "text/plain": [
       "{4, 5, 6, 8, 10, 12, 15, 18}"
      ]
     },
     "execution_count": 59,
     "metadata": {},
     "output_type": "execute_result"
    }
   ],
   "source": [
    "{x*y for x in {1,2,3} for y in {4,5,6}}"
   ]
  },
  {
   "cell_type": "code",
   "execution_count": 60,
   "metadata": {},
   "outputs": [
    {
     "data": {
      "text/plain": [
       "{2, 3, 4, 6, 8, 12}"
      ]
     },
     "execution_count": 60,
     "metadata": {},
     "output_type": "execute_result"
    }
   ],
   "source": [
    "{x*y for x in {1,2,3} for y in {2,3,4} if x!=y}"
   ]
  },
  {
   "cell_type": "markdown",
   "metadata": {},
   "source": [
    "### 0.5.5 リスト\n",
    "二次元配列をsumで合体できる"
   ]
  },
  {
   "cell_type": "code",
   "execution_count": 63,
   "metadata": {},
   "outputs": [
    {
     "data": {
      "text/plain": [
       "[1, 2, 3, 4, 5, 6, 7, 8, 9]"
      ]
     },
     "execution_count": 63,
     "metadata": {},
     "output_type": "execute_result"
    }
   ],
   "source": [
    "sum([[1,2,3],[4,5,6],[7,8,9]],[])"
   ]
  },
  {
   "cell_type": "markdown",
   "metadata": {},
   "source": [
    "リスト内包表記"
   ]
  },
  {
   "cell_type": "code",
   "execution_count": 64,
   "metadata": {},
   "outputs": [
    {
     "data": {
      "text/plain": [
       "[2, 4, 6]"
      ]
     },
     "execution_count": 64,
     "metadata": {},
     "output_type": "execute_result"
    }
   ],
   "source": [
    "[x*2 for x in {2,3,1,2,3}]"
   ]
  },
  {
   "cell_type": "code",
   "execution_count": 65,
   "metadata": {},
   "outputs": [
    {
     "data": {
      "text/plain": [
       "[4, 5, 6, 8, 10, 12, 12, 15, 18]"
      ]
     },
     "execution_count": 65,
     "metadata": {},
     "output_type": "execute_result"
    }
   ],
   "source": [
    "[x*y for x in [1,2,3] for y in [4,5,6]]"
   ]
  },
  {
   "cell_type": "markdown",
   "metadata": {},
   "source": [
    "スライスとか……"
   ]
  },
  {
   "cell_type": "code",
   "execution_count": 70,
   "metadata": {},
   "outputs": [
    {
     "data": {
      "text/plain": [
       "[0, 10, 20, 30, 40]"
      ]
     },
     "execution_count": 70,
     "metadata": {},
     "output_type": "execute_result"
    }
   ],
   "source": [
    "L = [i*10 for i in range(0,10)]\n",
    "L[:5]"
   ]
  },
  {
   "cell_type": "code",
   "execution_count": 71,
   "metadata": {},
   "outputs": [
    {
     "data": {
      "text/plain": [
       "[50, 60, 70, 80, 90]"
      ]
     },
     "execution_count": 71,
     "metadata": {},
     "output_type": "execute_result"
    }
   ],
   "source": [
    "L[5:]"
   ]
  },
  {
   "cell_type": "code",
   "execution_count": 72,
   "metadata": {},
   "outputs": [
    {
     "data": {
      "text/plain": [
       "[10, 30, 50, 70, 90]"
      ]
     },
     "execution_count": 72,
     "metadata": {},
     "output_type": "execute_result"
    }
   ],
   "source": [
    "L[1::2]"
   ]
  },
  {
   "cell_type": "markdown",
   "metadata": {},
   "source": [
    "リストを使用した代入文"
   ]
  },
  {
   "cell_type": "code",
   "execution_count": 73,
   "metadata": {},
   "outputs": [
    {
     "data": {
      "text/plain": [
       "1"
      ]
     },
     "execution_count": 73,
     "metadata": {},
     "output_type": "execute_result"
    }
   ],
   "source": [
    "[x,y,z] = [1,2,3]\n",
    "x"
   ]
  },
  {
   "cell_type": "markdown",
   "metadata": {},
   "source": [
    "### 0.5.6 タプル\n",
    "リスト同様、順序をもつ要素の連なりであるが、変更が不可能である。"
   ]
  },
  {
   "cell_type": "code",
   "execution_count": 78,
   "metadata": {},
   "outputs": [
    {
     "data": {
      "text/plain": [
       "2"
      ]
     },
     "execution_count": 78,
     "metadata": {},
     "output_type": "execute_result"
    }
   ],
   "source": [
    "T = (1,2,3,4)\n",
    "T[1]"
   ]
  },
  {
   "cell_type": "code",
   "execution_count": 76,
   "metadata": {},
   "outputs": [
    {
     "data": {
      "text/plain": [
       "(0, 1, 2, 3, 4, 5, 6, 7, 8, 9)"
      ]
     },
     "execution_count": 76,
     "metadata": {},
     "output_type": "execute_result"
    }
   ],
   "source": [
    "tuple([i for i in range(10)])"
   ]
  },
  {
   "cell_type": "markdown",
   "metadata": {},
   "source": [
    "### 0.5.7 その他の繰り返し処理について"
   ]
  },
  {
   "cell_type": "code",
   "execution_count": 79,
   "metadata": {},
   "outputs": [
    {
     "data": {
      "text/plain": [
       "[0, 1, 2, 3, 4, 5, 6, 7, 8, 9]"
      ]
     },
     "execution_count": 79,
     "metadata": {},
     "output_type": "execute_result"
    }
   ],
   "source": [
    "list(range(10))"
   ]
  },
  {
   "cell_type": "code",
   "execution_count": 81,
   "metadata": {},
   "outputs": [
    {
     "data": {
      "text/plain": [
       "[(1, 4), (2, 5), (3, 6)]"
      ]
     },
     "execution_count": 81,
     "metadata": {},
     "output_type": "execute_result"
    }
   ],
   "source": [
    "list(zip([1,2,3],[4,5,6]))"
   ]
  },
  {
   "cell_type": "code",
   "execution_count": 84,
   "metadata": {},
   "outputs": [
    {
     "data": {
      "text/plain": [
       "[9, 8, 7, 6, 5, 4, 3, 2, 1, 0]"
      ]
     },
     "execution_count": 84,
     "metadata": {},
     "output_type": "execute_result"
    }
   ],
   "source": [
    "list(reversed(range(10)))"
   ]
  },
  {
   "cell_type": "markdown",
   "metadata": {},
   "source": [
    "### 0.5.8 辞書"
   ]
  },
  {
   "cell_type": "code",
   "execution_count": 86,
   "metadata": {},
   "outputs": [
    {
     "data": {
      "text/plain": [
       "'four'"
      ]
     },
     "execution_count": 86,
     "metadata": {},
     "output_type": "execute_result"
    }
   ],
   "source": [
    "mydict = {4:\"four\", 3:\"three\"}\n",
    "mydict[4]"
   ]
  },
  {
   "cell_type": "code",
   "execution_count": 87,
   "metadata": {},
   "outputs": [
    {
     "data": {
      "text/plain": [
       "{0: 0, 1: 1, 2: 2, 3: 3, 4: 4}"
      ]
     },
     "execution_count": 87,
     "metadata": {},
     "output_type": "execute_result"
    }
   ],
   "source": [
    "{k:v for k,v in enumerate(range(5))}"
   ]
  },
  {
   "cell_type": "code",
   "execution_count": 88,
   "metadata": {},
   "outputs": [
    {
     "data": {
      "text/plain": [
       "dict_keys([4, 3])"
      ]
     },
     "execution_count": 88,
     "metadata": {},
     "output_type": "execute_result"
    }
   ],
   "source": [
    "mydict.keys()"
   ]
  },
  {
   "cell_type": "code",
   "execution_count": 89,
   "metadata": {},
   "outputs": [
    {
     "data": {
      "text/plain": [
       "dict_values(['four', 'three'])"
      ]
     },
     "execution_count": 89,
     "metadata": {},
     "output_type": "execute_result"
    }
   ],
   "source": [
    "mydict.values()"
   ]
  },
  {
   "cell_type": "markdown",
   "metadata": {},
   "source": [
    "### 0.5.9 一行プロージャーを定義する"
   ]
  },
  {
   "cell_type": "code",
   "execution_count": 97,
   "metadata": {},
   "outputs": [],
   "source": [
    "def twice(z) : return z*2"
   ]
  },
  {
   "cell_type": "markdown",
   "metadata": {},
   "source": [
    "## 0.6 ラボ : Pythonと逆のインデクス　-モジュールと制御-"
   ]
  },
  {
   "cell_type": "code",
   "execution_count": 99,
   "metadata": {},
   "outputs": [
    {
     "data": {
      "text/plain": [
       "2"
      ]
     },
     "execution_count": 99,
     "metadata": {},
     "output_type": "execute_result"
    }
   ],
   "source": [
    "from random import randint\n",
    "randint(1,4)"
   ]
  },
  {
   "cell_type": "code",
   "execution_count": 100,
   "metadata": {},
   "outputs": [
    {
     "name": "stdout",
     "output_type": "stream",
     "text": [
      "def fizzbuzz(number=15):\r\n",
      "  for i in range(number + 1):\r\n",
      "    if i%15==0 :\r\n",
      "      print(\"fizzbuzz\")\r\n",
      "    elif i%3==0 :\r\n",
      "      print(\"fizz\")\r\n",
      "    elif i%5==0 :\r\n",
      "      print(\"buzz\")\r\n",
      "    else:\r\n",
      "      print(i)\r\n"
     ]
    }
   ],
   "source": [
    "!cat fizzbuzz.py"
   ]
  },
  {
   "cell_type": "code",
   "execution_count": 101,
   "metadata": {},
   "outputs": [
    {
     "name": "stdout",
     "output_type": "stream",
     "text": [
      "fizzbuzz\n",
      "1\n",
      "2\n",
      "fizz\n",
      "4\n",
      "buzz\n",
      "fizz\n",
      "7\n",
      "8\n",
      "fizz\n",
      "buzz\n",
      "11\n",
      "fizz\n",
      "13\n",
      "14\n",
      "fizzbuzz\n"
     ]
    }
   ],
   "source": [
    "from fizzbuzz import fizzbuzz\n",
    "\n",
    "fizzbuzz()"
   ]
  },
  {
   "cell_type": "code",
   "execution_count": 102,
   "metadata": {},
   "outputs": [
    {
     "name": "stdout",
     "output_type": "stream",
     "text": [
      "def fizzbuzz(number=15):\r\n",
      "  for i in range(number + 1):\r\n",
      "    if i%15==0 :\r\n",
      "      print(\"ふぃずばず\")\r\n",
      "    elif i%3==0 :\r\n",
      "      print(\"ふぃず\")\r\n",
      "    elif i%5==0 :\r\n",
      "      print(\"ばず\")\r\n",
      "    else:\r\n",
      "      print(i)\r\n"
     ]
    }
   ],
   "source": [
    "!cat fizzbuzz.py"
   ]
  },
  {
   "cell_type": "code",
   "execution_count": 108,
   "metadata": {},
   "outputs": [
    {
     "name": "stdout",
     "output_type": "stream",
     "text": [
      "fizzbuzz\n",
      "1\n",
      "2\n",
      "fizz\n",
      "4\n",
      "buzz\n",
      "fizz\n",
      "7\n",
      "8\n",
      "fizz\n",
      "buzz\n",
      "11\n",
      "fizz\n",
      "13\n",
      "14\n",
      "fizzbuzz\n"
     ]
    }
   ],
   "source": [
    "fizzbuzz()"
   ]
  },
  {
   "cell_type": "code",
   "execution_count": 129,
   "metadata": {},
   "outputs": [
    {
     "name": "stdout",
     "output_type": "stream",
     "text": [
      "ふぃずばず\n",
      "1\n",
      "2\n",
      "ふぃず\n",
      "4\n",
      "ばず\n",
      "ふぃず\n",
      "7\n",
      "8\n",
      "ふぃず\n",
      "ばず\n",
      "11\n",
      "ふぃず\n",
      "13\n",
      "14\n",
      "ふぃずばず\n"
     ]
    }
   ],
   "source": [
    "import fizzbuzz\n",
    "import importlib\n",
    "\n",
    "importlib.reload(fizzbuzz)\n",
    "fizzbuzz.fizzbuzz()"
   ]
  },
  {
   "cell_type": "markdown",
   "metadata": {},
   "source": [
    "### 0.6.6 ファイルのからの読み込み"
   ]
  },
  {
   "cell_type": "code",
   "execution_count": 123,
   "metadata": {},
   "outputs": [
    {
     "name": "stdout",
     "output_type": "stream",
     "text": [
      "def fizzbuzz(number=15):\n",
      "\n",
      "  for i in range(number + 1):\n",
      "\n",
      "    if i%15==0 :\n",
      "\n",
      "      print(\"ふぃずばず\")\n",
      "\n",
      "    elif i%3==0 :\n",
      "\n",
      "      print(\"ふぃず\")\n",
      "\n",
      "    elif i%5==0 :\n",
      "\n",
      "      print(\"ばず\")\n",
      "\n",
      "    else:\n",
      "\n",
      "      print(i)\n",
      "\n"
     ]
    }
   ],
   "source": [
    "f = open(\"fizzbuzz.py\")\n",
    "for i in f:\n",
    "    print(i)"
   ]
  },
  {
   "cell_type": "code",
   "execution_count": null,
   "metadata": {},
   "outputs": [],
   "source": []
  },
  {
   "cell_type": "code",
   "execution_count": null,
   "metadata": {},
   "outputs": [],
   "source": []
  }
 ],
 "metadata": {
  "kernelspec": {
   "display_name": "Python 3",
   "language": "python",
   "name": "python3"
  },
  "language_info": {
   "codemirror_mode": {
    "name": "ipython",
    "version": 3
   },
   "file_extension": ".py",
   "mimetype": "text/x-python",
   "name": "python",
   "nbconvert_exporter": "python",
   "pygments_lexer": "ipython3",
   "version": "3.7.3"
  }
 },
 "nbformat": 4,
 "nbformat_minor": 2
}
